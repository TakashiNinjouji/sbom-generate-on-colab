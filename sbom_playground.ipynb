{
  "cells": [
    {
      "cell_type": "markdown",
      "metadata": {
        "id": "view-in-github",
        "colab_type": "text"
      },
      "source": [
        "<a href=\"https://colab.research.google.com/github/TakashiNinjouji/sbom-playground/blob/main/sbom_playground.ipynb\" target=\"_parent\"><img src=\"https://colab.research.google.com/assets/colab-badge.svg\" alt=\"Open In Colab\"/></a>"
      ]
    },
    {
      "cell_type": "markdown",
      "metadata": {
        "id": "cFaSohf8zLy5"
      },
      "source": [
        "# SBOM Playgound\n",
        "\n",
        "Some sbom tools work fine in Google Colaboratory.\n",
        "\n",
        "\n"
      ]
    },
    {
      "cell_type": "markdown",
      "metadata": {
        "id": "d0Ahx2oNOhEe"
      },
      "source": [
        "## System check\n",
        "\n",
        "Chcek the environment in Google Colaboratory.  \n",
        "Linux: Ubuntu 22.04.3 LTS  \n",
        "Python: 3.10.12  \n",
        "Java: openjdk version \"11.0.21\" 2023-10-17"
      ]
    },
    {
      "cell_type": "code",
      "execution_count": null,
      "metadata": {
        "id": "6ZdSUJ0BMNw6"
      },
      "outputs": [],
      "source": [
        "!lsb_release -a"
      ]
    },
    {
      "cell_type": "code",
      "execution_count": null,
      "metadata": {
        "id": "sr19g8-mNB4Q"
      },
      "outputs": [],
      "source": [
        "!uname -a"
      ]
    },
    {
      "cell_type": "code",
      "source": [
        "!ldd --version"
      ],
      "metadata": {
        "id": "_d6A5F6qb4wJ"
      },
      "execution_count": null,
      "outputs": []
    },
    {
      "cell_type": "code",
      "execution_count": null,
      "metadata": {
        "id": "RDvonS2Y3Cdu"
      },
      "outputs": [],
      "source": [
        "!apt -qq  update &&  apt -y upgrade && apt autoremove"
      ]
    },
    {
      "cell_type": "code",
      "execution_count": null,
      "metadata": {
        "id": "ZoEp99ZOnQ5Y"
      },
      "outputs": [],
      "source": [
        "!python -V"
      ]
    },
    {
      "cell_type": "code",
      "execution_count": null,
      "metadata": {
        "id": "oqGN8MQ6lygZ"
      },
      "outputs": [],
      "source": [
        "!java -version"
      ]
    },
    {
      "cell_type": "markdown",
      "source": [
        "### Go installation\n",
        "\n",
        "https://go.dev/doc/install"
      ],
      "metadata": {
        "id": "Xgm_tQ9LLfWS"
      }
    },
    {
      "cell_type": "code",
      "source": [
        "import os\n",
        "os.environ['PATH'] += \":/usr/local/go/bin\""
      ],
      "metadata": {
        "id": "nNSOSPM5NbUe"
      },
      "execution_count": 64,
      "outputs": []
    },
    {
      "cell_type": "code",
      "source": [
        "!wget https://go.dev/dl/go1.21.4.linux-amd64.tar.gz\n",
        "!sudo rm -rf /usr/local/go && tar -C /usr/local -xzf go1.21.4.linux-amd64.tar.gz\n",
        "!rm go1.21.4.linux-amd64.tar.gz\n",
        "!go version"
      ],
      "metadata": {
        "id": "3CJO_sVnJufs"
      },
      "execution_count": null,
      "outputs": []
    },
    {
      "cell_type": "markdown",
      "metadata": {
        "id": "4naiQVNZR1W0"
      },
      "source": [
        "# **Tools work in Colaboratory**"
      ]
    },
    {
      "cell_type": "markdown",
      "metadata": {
        "id": "mypvUr37m2IF"
      },
      "source": [
        "## nexB/scancode-toolkit\n",
        "https://github.com/nexB/scancode-toolkit\n"
      ]
    },
    {
      "cell_type": "code",
      "execution_count": null,
      "metadata": {
        "id": "hc5zjPf0nHhe"
      },
      "outputs": [],
      "source": [
        "!sudo apt install bzip2 xz-utils zlib1g libxml2-dev libxslt1-dev libpopt0"
      ]
    },
    {
      "cell_type": "code",
      "execution_count": null,
      "metadata": {
        "id": "5WXOuLnypCv3"
      },
      "outputs": [],
      "source": [
        "#!pip install -U  scancode-toolkit==31.2.4\n",
        "!pip install -U  scancode-toolkit"
      ]
    },
    {
      "cell_type": "code",
      "execution_count": 17,
      "metadata": {
        "id": "pbZk89oem29Q",
        "colab": {
          "base_uri": "https://localhost:8080/"
        },
        "outputId": "92f4c4db-6860-4580-bf53-efd62394f24c"
      },
      "outputs": [
        {
          "output_type": "stream",
          "name": "stdout",
          "text": [
            "ScanCode version: 32.0.8\n",
            "ScanCode Output Format version: 3.0.0\n",
            "SPDX License list version: 3.21\n"
          ]
        }
      ],
      "source": [
        "!scancode -V"
      ]
    },
    {
      "cell_type": "markdown",
      "metadata": {
        "id": "uQOG18DS6Dkd"
      },
      "source": [
        "## OSS Review Toolkit (ORT)\n",
        "https://github.com/oss-review-toolkit/ort"
      ]
    },
    {
      "cell_type": "markdown",
      "metadata": {
        "id": "eJe-MY6GR2zv"
      },
      "source": [
        "### Build natively"
      ]
    },
    {
      "cell_type": "code",
      "execution_count": null,
      "metadata": {
        "colab": {
          "background_save": true
        },
        "id": "p5mOR6AyR-qR"
      },
      "outputs": [],
      "source": [
        "!git clone https://github.com/oss-review-toolkit/ort.git --depth 1 && cd ort &&  ./gradlew installDist"
      ]
    },
    {
      "cell_type": "markdown",
      "metadata": {
        "id": "yU3wDlZqKn_S"
      },
      "source": [
        "### Preparations"
      ]
    },
    {
      "cell_type": "markdown",
      "metadata": {
        "id": "_K3GU7cKKv66"
      },
      "source": [
        "#### Golang\n",
        "\n",
        "Dep is installed manually.  \n",
        "https://github.com/golang/dep"
      ]
    },
    {
      "cell_type": "code",
      "execution_count": null,
      "metadata": {
        "id": "TpJVvECrVWxl"
      },
      "outputs": [],
      "source": [
        "!wget https://github.com/golang/dep/releases/download/v0.5.4/dep-linux-amd64 && chmod +x dep-linux-amd64 && mv dep-linux-amd64 /usr/local/go/bin/dep\n",
        "!dep version"
      ]
    },
    {
      "cell_type": "markdown",
      "metadata": {
        "id": "-eVDsYOyqMNG"
      },
      "source": [
        "#### Haskel\n"
      ]
    },
    {
      "cell_type": "code",
      "execution_count": null,
      "metadata": {
        "id": "uMJzyZsVqLGV"
      },
      "outputs": [],
      "source": [
        "#!sudo apt install build-essential curl libffi-dev  libgmp-dev libgmp10 libncurses-dev libncurses5 libtinfo5"
      ]
    },
    {
      "cell_type": "code",
      "execution_count": null,
      "metadata": {
        "id": "te9L2aGVwLeY"
      },
      "outputs": [],
      "source": [
        "#!find /usr/lib -name \"libffi.so*\" && ln -s /usr/lib/x86_64-linux-gnu/libffi.so.7 /usr/lib/x86_64-linux-gnu/libffi.so.6"
      ]
    },
    {
      "cell_type": "code",
      "execution_count": null,
      "metadata": {
        "id": "wshKccZDwspt"
      },
      "outputs": [],
      "source": [
        "###!sudo curl --proto '=https' --tlsv1.2 -sSf https://get-ghcup.haskell.org | sh"
      ]
    },
    {
      "cell_type": "code",
      "execution_count": null,
      "metadata": {
        "id": "hd35-9YZzyy3"
      },
      "outputs": [],
      "source": [
        "#!sudo curl -sSL https://get.haskellstack.org/ | sh -f -s --"
      ]
    },
    {
      "cell_type": "code",
      "execution_count": null,
      "metadata": {
        "id": "UFJa7yYU0usG"
      },
      "outputs": [],
      "source": [
        "#!sudo apt install haskell-stack"
      ]
    },
    {
      "cell_type": "code",
      "execution_count": null,
      "metadata": {
        "id": "FlxVmg7CuPCA"
      },
      "outputs": [],
      "source": [
        "#!stack upgrade"
      ]
    },
    {
      "cell_type": "markdown",
      "metadata": {
        "id": "NROfyHToK2lj"
      },
      "source": [
        "#### JavaScript"
      ]
    },
    {
      "cell_type": "code",
      "execution_count": null,
      "metadata": {
        "id": "iWudr25aK8jM"
      },
      "outputs": [],
      "source": [
        "!npm install --global bower pnpm yarn"
      ]
    },
    {
      "cell_type": "markdown",
      "metadata": {
        "id": "KkJ2oFQgKZOI"
      },
      "source": [
        "#### Python"
      ]
    },
    {
      "cell_type": "code",
      "execution_count": null,
      "metadata": {
        "id": "wH8vwYMjwfq1"
      },
      "outputs": [],
      "source": [
        "!sudo apt install libcairo2-dev pkg-config python3-dev"
      ]
    },
    {
      "cell_type": "code",
      "execution_count": null,
      "metadata": {
        "id": "fYOZpwDnMwHt"
      },
      "outputs": [],
      "source": [
        "pip uninstall python-inspector poetry pycairo pipenv pystan conan --y"
      ]
    },
    {
      "cell_type": "code",
      "execution_count": null,
      "metadata": {
        "id": "XAisnqohHUjN"
      },
      "outputs": [],
      "source": [
        "pip install -U python-inspector poetry pycairo pipenv pystan conan"
      ]
    },
    {
      "cell_type": "code",
      "execution_count": null,
      "metadata": {
        "id": "z-TwWOJ8N_Nv"
      },
      "outputs": [],
      "source": [
        "#pip check"
      ]
    },
    {
      "cell_type": "code",
      "execution_count": null,
      "metadata": {
        "id": "27RY79WqODfX"
      },
      "outputs": [],
      "source": [
        "#pip uninstall --y"
      ]
    },
    {
      "cell_type": "markdown",
      "metadata": {
        "id": "nVpvnNrIK1Dz"
      },
      "source": [
        "#### Rust\n",
        "https://www.rust-lang.org/tools/install  \n",
        "https://rust-lang.github.io/rustup/installation/other.html\n"
      ]
    },
    {
      "cell_type": "code",
      "execution_count": null,
      "metadata": {
        "id": "ResPxmveK7y8"
      },
      "outputs": [],
      "source": [
        "#!sudo apt install cargo"
      ]
    },
    {
      "cell_type": "code",
      "source": [
        "#!curl --proto '=https' --tlsv1.2 -sSf https://sh.rustup.rs | sh\n",
        "!curl -O --proto '=https' --tlsv1.2 -sSf https://static.rust-lang.org/rustup/dist/x86_64-unknown-linux-gnu/rustup-init"
      ],
      "metadata": {
        "id": "cp-AfjUBWT3m"
      },
      "execution_count": 83,
      "outputs": []
    },
    {
      "cell_type": "code",
      "source": [
        "!chmod +x rustup-init\n",
        "!sudo ./rustup-init"
      ],
      "metadata": {
        "id": "uHh7rJ2PdzQ0"
      },
      "execution_count": null,
      "outputs": []
    },
    {
      "cell_type": "code",
      "source": [
        "import os\n",
        "os.environ['PATH'] += \":/root/.cargo/bin\""
      ],
      "metadata": {
        "id": "ZBzn1NTefB8R"
      },
      "execution_count": 96,
      "outputs": []
    },
    {
      "cell_type": "code",
      "source": [
        "!rustc"
      ],
      "metadata": {
        "id": "ARL9BDynftP9"
      },
      "execution_count": null,
      "outputs": []
    },
    {
      "cell_type": "markdown",
      "metadata": {
        "id": "Zlt7bWAoY1w7"
      },
      "source": [
        "### Try ORT"
      ]
    },
    {
      "cell_type": "code",
      "execution_count": null,
      "metadata": {
        "id": "2fcCLMT7Y1w7"
      },
      "outputs": [],
      "source": [
        "!./ort/cli/build/install/ort/bin/ort --help"
      ]
    },
    {
      "cell_type": "code",
      "execution_count": null,
      "metadata": {
        "id": "y7ZjggPEY1w8"
      },
      "outputs": [],
      "source": [
        "!./ort/cli/build/install/ort/bin/ort requirements"
      ]
    },
    {
      "cell_type": "markdown",
      "metadata": {
        "id": "qAVaMrxyVNad"
      },
      "source": [
        "## Aquasecurity/Trivy\n",
        "\n",
        "https://github.com/aquasecurity/trivy\n",
        "\n",
        "Trivy needs docker or podman...\n"
      ]
    },
    {
      "cell_type": "code",
      "execution_count": null,
      "metadata": {
        "id": "JBRyIYYeVWvu"
      },
      "outputs": [],
      "source": [
        "!curl -sfL https://raw.githubusercontent.com/aquasecurity/trivy/main/contrib/install.sh | sh -s -- -b /usr/local/bin v0.47.0"
      ]
    },
    {
      "cell_type": "code",
      "execution_count": null,
      "metadata": {
        "id": "5PFboTRLV_RD"
      },
      "outputs": [],
      "source": [
        "!trivy --version"
      ]
    },
    {
      "cell_type": "code",
      "execution_count": null,
      "metadata": {
        "id": "oufBlWUxIyKR"
      },
      "outputs": [],
      "source": [
        "!trivy image docker.io/alpine:latest"
      ]
    },
    {
      "cell_type": "markdown",
      "metadata": {
        "id": "bpAbLs62KCCP"
      },
      "source": [
        "## Kubernetes BOM\n",
        "\n",
        "https://github.com/kubernetes-sigs/bom\n"
      ]
    },
    {
      "cell_type": "code",
      "execution_count": null,
      "metadata": {
        "id": "UIqZEK0dKFpZ"
      },
      "outputs": [],
      "source": [
        "!curl -L  https://github.com/kubernetes-sigs/bom/releases/download/v0.5.1/bom-amd64-linux -o bom\n",
        "!sudo mv ./bom /usr/local/bin/bom\n",
        "!sudo chmod +x /usr/local/bin/bom\n",
        "#-----------------------\n",
        "#go install sigs.k8s.io/bom/cmd/bom@latest"
      ]
    },
    {
      "cell_type": "code",
      "execution_count": null,
      "metadata": {
        "id": "QrzUEZX3Dd_L"
      },
      "outputs": [],
      "source": [
        "!bom version"
      ]
    },
    {
      "cell_type": "code",
      "execution_count": null,
      "metadata": {
        "id": "wvXQ4PfSK8Xs"
      },
      "outputs": [],
      "source": [
        "#!bom generate --format json --output=debian.json --image debian@sha256:0aac521df91463e54189d82fe820b6d36b4a0992751c8339fbdd42e2bc1aa491\n",
        "!bom generate -n http://example.com/ --image registry.k8s.io/kube-apiserver:v1.21.0"
      ]
    },
    {
      "cell_type": "code",
      "execution_count": null,
      "metadata": {
        "id": "bOlYThXnKL7S"
      },
      "outputs": [],
      "source": [
        "!bom document outline debian.spdx"
      ]
    },
    {
      "cell_type": "markdown",
      "metadata": {
        "id": "2nbc8FHxRTrP"
      },
      "source": [
        "\n",
        "\n",
        "---\n",
        "\n"
      ]
    },
    {
      "cell_type": "markdown",
      "metadata": {
        "id": "9TSxnSL6TM89"
      },
      "source": [
        "## Microsoft/sbom-tool\n",
        "\n",
        "https://github.com/microsoft/sbom-tool\n",
        "\n"
      ]
    },
    {
      "cell_type": "code",
      "execution_count": null,
      "metadata": {
        "id": "7r0B6nBmOy_q"
      },
      "outputs": [],
      "source": [
        "%%shell\n",
        "curl -Lo sbom-tool https://github.com/microsoft/sbom-tool/releases/latest/download/sbom-tool-linux-x64\n",
        "#chmod +x sbom-tool-linux-x64\n",
        "chmod +x sbom-tool\n",
        "mv sbom-tool /usr/local/bin"
      ]
    },
    {
      "cell_type": "code",
      "execution_count": null,
      "metadata": {
        "id": "s5ToOvDoPGQR"
      },
      "outputs": [],
      "source": [
        "!sbom-tool --version"
      ]
    },
    {
      "cell_type": "markdown",
      "metadata": {
        "id": "avy4hTG3ODiq"
      },
      "source": [
        "## Anchore/Syft\n",
        "\n",
        "https://github.com/anchore/syft\n"
      ]
    },
    {
      "cell_type": "markdown",
      "metadata": {
        "id": "ptVK3THaO2pf"
      },
      "source": [
        "The option \"--v\" or \"-q\" is required to run..."
      ]
    },
    {
      "cell_type": "code",
      "execution_count": null,
      "metadata": {
        "id": "Xq3EAMx9OpH_"
      },
      "outputs": [],
      "source": [
        "!curl -sSfL https://raw.githubusercontent.com/anchore/syft/main/install.sh | sh -s -- -b /usr/local/bin"
      ]
    },
    {
      "cell_type": "code",
      "execution_count": null,
      "metadata": {
        "id": "SardeTxKOxCQ"
      },
      "outputs": [],
      "source": [
        "!syft -v"
      ]
    },
    {
      "cell_type": "code",
      "execution_count": null,
      "metadata": {
        "id": "xNw5fPwNh-BK"
      },
      "outputs": [],
      "source": [
        "!syft -h"
      ]
    },
    {
      "cell_type": "code",
      "execution_count": null,
      "metadata": {
        "id": "fu7VJLeEYU2D"
      },
      "outputs": [],
      "source": [
        "!syft -q docker.io/alpine:latest --scope all-layers -o spdx"
      ]
    },
    {
      "cell_type": "code",
      "execution_count": null,
      "metadata": {
        "id": "EoxTlTfVEYeC"
      },
      "outputs": [],
      "source": [
        "!syft -vv docker.io/alpine:latest --scope all-layers"
      ]
    },
    {
      "cell_type": "code",
      "execution_count": null,
      "metadata": {
        "id": "ntzfph_wPjS_"
      },
      "outputs": [],
      "source": [
        "!syft -q docker.io/alpine:latest --scope all-layers -o spdx-tag-value=syft_alpine-latest_spdx-tv.txt"
      ]
    },
    {
      "cell_type": "code",
      "execution_count": null,
      "metadata": {
        "id": "OTGK9qneGab6"
      },
      "outputs": [],
      "source": [
        "!syft -q docker.io/alpine:latest --scope all-layers -o spdx-json=syft_alpine-latest_spdx.json"
      ]
    },
    {
      "cell_type": "markdown",
      "metadata": {
        "id": "v4jUxmUYXz25"
      },
      "source": [
        "## Anchore/Grype\n",
        "\n",
        "https://github.com/anchore/grype\n"
      ]
    },
    {
      "cell_type": "markdown",
      "metadata": {
        "id": "tlDw7p17PD_i"
      },
      "source": [
        "The option \"--v\" or \"-q\" is required to run..."
      ]
    },
    {
      "cell_type": "code",
      "execution_count": null,
      "metadata": {
        "id": "6s8tm4woYELo"
      },
      "outputs": [],
      "source": [
        "!curl -sSfL https://raw.githubusercontent.com/anchore/grype/main/install.sh | sh -s -- -b /usr/local/bin"
      ]
    },
    {
      "cell_type": "code",
      "execution_count": null,
      "metadata": {
        "id": "55PTrFJCcPwi"
      },
      "outputs": [],
      "source": [
        "!grype -q sbom:./syft_alpine-latest_spdx.json -o json"
      ]
    },
    {
      "cell_type": "code",
      "execution_count": null,
      "metadata": {
        "id": "sn2UQ6w_cj8W"
      },
      "outputs": [],
      "source": [
        "!grype -h"
      ]
    },
    {
      "cell_type": "markdown",
      "metadata": {
        "id": "CbBYgq4WG57Q"
      },
      "source": [
        "## NTIA Conformance Checker\n",
        "\n",
        "https://github.com/spdx/ntia-conformance-checker"
      ]
    },
    {
      "cell_type": "code",
      "execution_count": null,
      "metadata": {
        "id": "XXHR1WUKaPRS"
      },
      "outputs": [],
      "source": [
        "pip install ntia-conformance-checker"
      ]
    },
    {
      "cell_type": "code",
      "execution_count": null,
      "metadata": {
        "id": "LrL18p5baYgZ"
      },
      "outputs": [],
      "source": [
        "pip freeze | grep ntia-conformance-checker"
      ]
    },
    {
      "cell_type": "code",
      "execution_count": null,
      "metadata": {
        "id": "K-W_IpGla_zy"
      },
      "outputs": [],
      "source": [
        "!ntia-checker --verbose --file syft_alpine-latest_spdx.json"
      ]
    },
    {
      "cell_type": "markdown",
      "metadata": {
        "id": "N_ygr-7-QkNg"
      },
      "source": [
        "# **Under investigation**\n"
      ]
    },
    {
      "cell_type": "markdown",
      "metadata": {
        "id": "E8GeqVJitwxM"
      },
      "source": [
        "## spdx-python\n",
        "\n",
        "https://github.com/spdx/tools-python"
      ]
    },
    {
      "cell_type": "code",
      "execution_count": null,
      "metadata": {
        "id": "6eQVOBi5w7Q-"
      },
      "outputs": [],
      "source": [
        "pip install spdx-tools"
      ]
    },
    {
      "cell_type": "markdown",
      "metadata": {
        "id": "4uhVxB5nMzN4"
      },
      "source": [
        "## spdx-golang\n",
        "\n",
        "https://github.com/spdx/tools-golang"
      ]
    },
    {
      "cell_type": "code",
      "execution_count": null,
      "metadata": {
        "id": "av4YPjKcM5MP"
      },
      "outputs": [],
      "source": []
    },
    {
      "cell_type": "markdown",
      "metadata": {
        "id": "QUembxS1xVvB"
      },
      "source": [
        "## jq"
      ]
    },
    {
      "cell_type": "code",
      "execution_count": null,
      "metadata": {
        "id": "q1Ju-mipxVbz"
      },
      "outputs": [],
      "source": [
        "#%%bash\n",
        "%alias la=\"ls -a\""
      ]
    },
    {
      "cell_type": "code",
      "execution_count": null,
      "metadata": {
        "colab": {
          "base_uri": "https://localhost:8080/"
        },
        "id": "snD-JC8txgVV",
        "outputId": "27f4d163-a55e-44de-c3c1-7442e1e76188"
      },
      "outputs": [
        {
          "name": "stdout",
          "output_type": "stream",
          "text": [
            "/bin/bash: line 1: la: command not found\n"
          ]
        }
      ],
      "source": [
        "!la"
      ]
    },
    {
      "cell_type": "markdown",
      "metadata": {
        "id": "ybz1hlitRo5T"
      },
      "source": [
        "\n",
        "\n",
        "---\n",
        "\n"
      ]
    }
  ],
  "metadata": {
    "colab": {
      "provenance": [],
      "mount_file_id": "1wESiVDyWOw70wnRPndxcnyTI6RsV0_9m",
      "authorship_tag": "ABX9TyM13QNE0qhBKIBZmZ2fuAWu",
      "include_colab_link": true
    },
    "kernelspec": {
      "display_name": "Python 3",
      "name": "python3"
    },
    "language_info": {
      "name": "python"
    }
  },
  "nbformat": 4,
  "nbformat_minor": 0
}