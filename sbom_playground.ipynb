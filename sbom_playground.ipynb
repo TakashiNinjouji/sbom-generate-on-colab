{
  "cells": [
    {
      "cell_type": "markdown",
      "metadata": {
        "id": "view-in-github",
        "colab_type": "text"
      },
      "source": [
        "<a href=\"https://colab.research.google.com/github/TakashiNinjouji/sbom-playground/blob/main/sbom_playground.ipynb\" target=\"_parent\"><img src=\"https://colab.research.google.com/assets/colab-badge.svg\" alt=\"Open In Colab\"/></a>"
      ]
    },
    {
      "cell_type": "markdown",
      "source": [
        "# SBOM Playgound\n",
        "\n",
        "Some sbom tools work fine in Google Colaboratory.\n",
        "\n",
        "\n"
      ],
      "metadata": {
        "id": "cFaSohf8zLy5"
      }
    },
    {
      "cell_type": "markdown",
      "metadata": {
        "id": "d0Ahx2oNOhEe"
      },
      "source": [
        "## System check\n",
        "\n",
        "Chcek the environment in Google Colaboratory.  \n",
        "Linux: Ubuntu 22.04.2 LTS  \n",
        "Python: 3.10.6  \n",
        "Java: openjdk version \"11.0.19\" 2023-04-18"
      ]
    },
    {
      "cell_type": "code",
      "execution_count": null,
      "metadata": {
        "id": "6ZdSUJ0BMNw6"
      },
      "outputs": [],
      "source": [
        "!lsb_release -a"
      ]
    },
    {
      "cell_type": "code",
      "execution_count": null,
      "metadata": {
        "id": "sr19g8-mNB4Q"
      },
      "outputs": [],
      "source": [
        "!uname -a"
      ]
    },
    {
      "cell_type": "code",
      "execution_count": null,
      "metadata": {
        "id": "RDvonS2Y3Cdu"
      },
      "outputs": [],
      "source": [
        "!apt -qq  update &&  apt -y upgrade && apt autoremove"
      ]
    },
    {
      "cell_type": "code",
      "execution_count": null,
      "metadata": {
        "id": "ZoEp99ZOnQ5Y"
      },
      "outputs": [],
      "source": [
        "!python -V"
      ]
    },
    {
      "cell_type": "code",
      "source": [
        "!java -version"
      ],
      "metadata": {
        "id": "oqGN8MQ6lygZ"
      },
      "execution_count": null,
      "outputs": []
    },
    {
      "cell_type": "markdown",
      "source": [
        "# **Tools work in Colaboratory**"
      ],
      "metadata": {
        "id": "4naiQVNZR1W0"
      }
    },
    {
      "cell_type": "markdown",
      "metadata": {
        "id": "mypvUr37m2IF"
      },
      "source": [
        "## nexB/scancode-toolkit\n",
        "https://github.com/nexB/scancode-toolkit\n"
      ]
    },
    {
      "cell_type": "code",
      "execution_count": null,
      "metadata": {
        "id": "hc5zjPf0nHhe"
      },
      "outputs": [],
      "source": [
        "!sudo apt install bzip2 xz-utils zlib1g libxml2-dev libxslt1-dev"
      ]
    },
    {
      "cell_type": "code",
      "source": [
        "!pip install -U  scancode-toolkit"
      ],
      "metadata": {
        "id": "5WXOuLnypCv3"
      },
      "execution_count": null,
      "outputs": []
    },
    {
      "cell_type": "code",
      "source": [
        "!scancode -h"
      ],
      "metadata": {
        "id": "pbZk89oem29Q"
      },
      "execution_count": null,
      "outputs": []
    },
    {
      "cell_type": "markdown",
      "source": [
        "## Tern\n",
        "https://github.com/tern-tools/tern"
      ],
      "metadata": {
        "id": "6J0n3Z_SRxea"
      }
    },
    {
      "cell_type": "markdown",
      "metadata": {
        "id": "sGQU5quANjl1"
      },
      "source": [
        "### Preparation & Install\n",
        "\n",
        "Tern needs attr and skopeo.\n",
        "Jq is a useful tool to view JSON data.\n",
        "So, install attr and jq via apt."
      ]
    },
    {
      "cell_type": "code",
      "execution_count": null,
      "metadata": {
        "id": "MAonvKaZNcv1"
      },
      "outputs": [],
      "source": [
        "!apt install attr jq skopeo"
      ]
    },
    {
      "cell_type": "markdown",
      "source": [
        "Install"
      ],
      "metadata": {
        "id": "cKr4u2y1pNuD"
      }
    },
    {
      "cell_type": "code",
      "source": [
        "!pip install tern"
      ],
      "metadata": {
        "id": "RGdCXCjYXby8"
      },
      "execution_count": null,
      "outputs": []
    },
    {
      "cell_type": "markdown",
      "metadata": {
        "id": "92YbcYUQZxH7"
      },
      "source": [
        "### Try Tern"
      ]
    },
    {
      "cell_type": "code",
      "execution_count": null,
      "metadata": {
        "id": "nNocrKxZZxH7"
      },
      "outputs": [],
      "source": [
        "!tern -v"
      ]
    },
    {
      "cell_type": "code",
      "source": [
        "!tern -h"
      ],
      "metadata": {
        "id": "xaoat31HZxH7"
      },
      "execution_count": null,
      "outputs": []
    },
    {
      "cell_type": "code",
      "source": [
        "!tern report -f spdxjson -o tern_alpine-latest_spdx.json -i docker.io/alpine:latest"
      ],
      "metadata": {
        "id": "JqBKvqWpZxH7"
      },
      "execution_count": null,
      "outputs": []
    },
    {
      "cell_type": "code",
      "source": [
        "!tern report -f spdxtagvalue -o tern_alpine-latest_spdxtv.txt -i docker.io/alpine:latest"
      ],
      "metadata": {
        "id": "PPHqP3NOZxH7"
      },
      "execution_count": null,
      "outputs": []
    },
    {
      "cell_type": "code",
      "source": [
        "!cat tern_alpine-latest_spdx.json | jq"
      ],
      "metadata": {
        "id": "0qjVd-Y5GpPw"
      },
      "execution_count": null,
      "outputs": []
    },
    {
      "cell_type": "markdown",
      "source": [
        "### Try tern with scancode"
      ],
      "metadata": {
        "id": "eXZCpy4CGjmB"
      }
    },
    {
      "cell_type": "code",
      "source": [
        "!tern report -x scancode -f spdxjson -o tern-scancode_alpine-latest_spdx.json -i docker.io/alpine:latest"
      ],
      "metadata": {
        "id": "6LHz84_0ZxH7"
      },
      "execution_count": null,
      "outputs": []
    },
    {
      "cell_type": "code",
      "source": [
        "!tern report -x scancode -f spdxtagvalue -o tern-scancode_alpine-latest_spdx.txt -i docker.io/alpine:latest"
      ],
      "metadata": {
        "id": "NbJdfanMZxH7"
      },
      "execution_count": null,
      "outputs": []
    },
    {
      "cell_type": "code",
      "execution_count": null,
      "metadata": {
        "id": "0o-eOwH8ZxH7"
      },
      "outputs": [],
      "source": [
        "!cat tern-scancode_alpine-latest_spdx.json | jq"
      ]
    },
    {
      "cell_type": "markdown",
      "source": [
        "## OSS Review Toolkit (ORT)"
      ],
      "metadata": {
        "id": "uQOG18DS6Dkd"
      }
    },
    {
      "cell_type": "markdown",
      "source": [
        "### Build natively"
      ],
      "metadata": {
        "id": "eJe-MY6GR2zv"
      }
    },
    {
      "cell_type": "code",
      "source": [
        "!git clone https://github.com/oss-review-toolkit/ort.git --depth 1 && cd ort &&  ./gradlew installDist"
      ],
      "metadata": {
        "id": "p5mOR6AyR-qR"
      },
      "execution_count": null,
      "outputs": []
    },
    {
      "cell_type": "markdown",
      "source": [
        "### Preparations"
      ],
      "metadata": {
        "id": "yU3wDlZqKn_S"
      }
    },
    {
      "cell_type": "markdown",
      "source": [
        "#### Python"
      ],
      "metadata": {
        "id": "HeG9wZC5zF81"
      }
    },
    {
      "cell_type": "code",
      "source": [
        "!pip install -U poetry pipenv"
      ],
      "metadata": {
        "id": "Y8qRNhZEzHmA"
      },
      "execution_count": null,
      "outputs": []
    },
    {
      "cell_type": "markdown",
      "source": [
        "#### Golang\n"
      ],
      "metadata": {
        "id": "_K3GU7cKKv66"
      }
    },
    {
      "cell_type": "code",
      "source": [
        "!sudo apt install golang-go"
      ],
      "metadata": {
        "id": "c6Doved5K66c"
      },
      "execution_count": null,
      "outputs": []
    },
    {
      "cell_type": "code",
      "source": [
        "!wget https://github.com/golang/dep/releases/download/v0.5.4/dep-linux-amd64 && chmod +x dep-linux-amd64 && mv dep-linux-amd64 /usr/bin/dep"
      ],
      "metadata": {
        "id": "TpJVvECrVWxl"
      },
      "execution_count": null,
      "outputs": []
    },
    {
      "cell_type": "markdown",
      "source": [
        "#### JavaScript"
      ],
      "metadata": {
        "id": "NROfyHToK2lj"
      }
    },
    {
      "cell_type": "code",
      "source": [
        "!npm install --global bower pnpm yarn"
      ],
      "metadata": {
        "id": "iWudr25aK8jM"
      },
      "execution_count": null,
      "outputs": []
    },
    {
      "cell_type": "markdown",
      "source": [
        "#### Rust"
      ],
      "metadata": {
        "id": "nVpvnNrIK1Dz"
      }
    },
    {
      "cell_type": "code",
      "source": [
        "!sudo apt install cargo"
      ],
      "metadata": {
        "id": "ResPxmveK7y8"
      },
      "execution_count": null,
      "outputs": []
    },
    {
      "cell_type": "markdown",
      "source": [
        "### Try ORT"
      ],
      "metadata": {
        "id": "Zlt7bWAoY1w7"
      }
    },
    {
      "cell_type": "code",
      "source": [
        "!./ort/cli/build/install/ort/bin/ort --help"
      ],
      "metadata": {
        "id": "2fcCLMT7Y1w7"
      },
      "execution_count": null,
      "outputs": []
    },
    {
      "cell_type": "code",
      "source": [
        "!./ort/cli/build/install/ort/bin/ort requirements"
      ],
      "metadata": {
        "id": "y7ZjggPEY1w8"
      },
      "execution_count": null,
      "outputs": []
    },
    {
      "cell_type": "markdown",
      "metadata": {
        "id": "avy4hTG3ODiq"
      },
      "source": [
        "## Anchore/Syft\n",
        "\n",
        "https://github.com/anchore/syft\n"
      ]
    },
    {
      "cell_type": "markdown",
      "source": [
        "The option \"--v\" or \"-q\" is required to run..."
      ],
      "metadata": {
        "id": "ptVK3THaO2pf"
      }
    },
    {
      "cell_type": "code",
      "execution_count": null,
      "metadata": {
        "id": "Xq3EAMx9OpH_"
      },
      "outputs": [],
      "source": [
        "!curl -sSfL https://raw.githubusercontent.com/anchore/syft/main/install.sh | sh -s -- -b /usr/local/bin"
      ]
    },
    {
      "cell_type": "code",
      "execution_count": null,
      "metadata": {
        "id": "SardeTxKOxCQ"
      },
      "outputs": [],
      "source": [
        "!syft -v"
      ]
    },
    {
      "cell_type": "code",
      "source": [
        "!syft -h"
      ],
      "metadata": {
        "id": "xNw5fPwNh-BK"
      },
      "execution_count": null,
      "outputs": []
    },
    {
      "cell_type": "code",
      "source": [
        "!syft -q docker.io/alpine:latest --scope all-layers -o spdx"
      ],
      "metadata": {
        "id": "fu7VJLeEYU2D"
      },
      "execution_count": null,
      "outputs": []
    },
    {
      "cell_type": "code",
      "source": [
        "!syft -vv docker.io/alpine:latest --scope all-layers"
      ],
      "metadata": {
        "id": "EoxTlTfVEYeC"
      },
      "execution_count": null,
      "outputs": []
    },
    {
      "cell_type": "code",
      "execution_count": null,
      "metadata": {
        "id": "ntzfph_wPjS_"
      },
      "outputs": [],
      "source": [
        "!syft -q docker.io/alpine:latest --scope all-layers -o spdx-tag-value=syft_alpine-latest_spdx-tv.txt"
      ]
    },
    {
      "cell_type": "code",
      "source": [
        "!syft -q docker.io/alpine:latest --scope all-layers -o spdx-json=syft_alpine-latest_spdx.json"
      ],
      "metadata": {
        "id": "OTGK9qneGab6"
      },
      "execution_count": null,
      "outputs": []
    },
    {
      "cell_type": "markdown",
      "source": [
        "## Anchore/Grype\n",
        "\n",
        "https://github.com/anchore/grype\n"
      ],
      "metadata": {
        "id": "v4jUxmUYXz25"
      }
    },
    {
      "cell_type": "markdown",
      "source": [
        "The option \"--v\" or \"-q\" is required to run..."
      ],
      "metadata": {
        "id": "tlDw7p17PD_i"
      }
    },
    {
      "cell_type": "code",
      "source": [
        "!curl -sSfL https://raw.githubusercontent.com/anchore/grype/main/install.sh | sh -s -- -b /usr/local/bin"
      ],
      "metadata": {
        "id": "6s8tm4woYELo"
      },
      "execution_count": null,
      "outputs": []
    },
    {
      "cell_type": "code",
      "source": [
        "!grype -q sbom:./syft_alpine-latest_spdx.json -o json"
      ],
      "metadata": {
        "id": "55PTrFJCcPwi"
      },
      "execution_count": null,
      "outputs": []
    },
    {
      "cell_type": "code",
      "source": [
        "!grype -h"
      ],
      "metadata": {
        "id": "sn2UQ6w_cj8W"
      },
      "execution_count": null,
      "outputs": []
    },
    {
      "cell_type": "markdown",
      "source": [
        "## NTIA Conformance Checker\n",
        "\n",
        "https://github.com/spdx/ntia-conformance-checker"
      ],
      "metadata": {
        "id": "CbBYgq4WG57Q"
      }
    },
    {
      "cell_type": "code",
      "source": [
        "pip install ntia-conformance-checker"
      ],
      "metadata": {
        "id": "XXHR1WUKaPRS"
      },
      "execution_count": null,
      "outputs": []
    },
    {
      "cell_type": "code",
      "source": [
        "pip freeze | grep ntia-conformance-checker"
      ],
      "metadata": {
        "id": "LrL18p5baYgZ"
      },
      "execution_count": null,
      "outputs": []
    },
    {
      "cell_type": "code",
      "source": [
        "!ntia-checker --verbose --file syft_alpine-latest_spdx.json"
      ],
      "metadata": {
        "id": "K-W_IpGla_zy"
      },
      "execution_count": null,
      "outputs": []
    },
    {
      "cell_type": "markdown",
      "source": [
        "## Aquasecurity/Trivy\n",
        "\n",
        "https://github.com/aquasecurity/trivy\n",
        "\n",
        "Trivy needs docker or podman...\n"
      ],
      "metadata": {
        "id": "qAVaMrxyVNad"
      }
    },
    {
      "cell_type": "code",
      "source": [
        "!curl -sfL https://raw.githubusercontent.com/aquasecurity/trivy/main/contrib/install.sh | sh -s -- -b /usr/local/bin v0.43.1"
      ],
      "metadata": {
        "id": "JBRyIYYeVWvu"
      },
      "execution_count": null,
      "outputs": []
    },
    {
      "cell_type": "code",
      "source": [
        "!trivy -h"
      ],
      "metadata": {
        "id": "5PFboTRLV_RD"
      },
      "execution_count": null,
      "outputs": []
    },
    {
      "cell_type": "code",
      "source": [
        "!trivy image docker.io/alpine:lates"
      ],
      "metadata": {
        "id": "oufBlWUxIyKR"
      },
      "execution_count": null,
      "outputs": []
    },
    {
      "cell_type": "markdown",
      "source": [
        "# **Under investigation**\n"
      ],
      "metadata": {
        "id": "N_ygr-7-QkNg"
      }
    },
    {
      "cell_type": "markdown",
      "metadata": {
        "id": "9TSxnSL6TM89"
      },
      "source": [
        "## Microsoft/sbom-tool\n",
        "\n",
        "https://github.com/microsoft/sbom-tool\n",
        "\n"
      ]
    },
    {
      "cell_type": "code",
      "source": [
        "%%shell\n",
        "curl -Lo sbom-tool https://github.com/microsoft/sbom-tool/releases/latest/download/sbom-tool-linux-x64\n",
        "chmod +x sbom-tool\n",
        "mv sbom-tool /usr/local/bin"
      ],
      "metadata": {
        "id": "7r0B6nBmOy_q"
      },
      "execution_count": null,
      "outputs": []
    },
    {
      "cell_type": "code",
      "source": [
        "!sbom-tool generate -help"
      ],
      "metadata": {
        "id": "s5ToOvDoPGQR"
      },
      "execution_count": null,
      "outputs": []
    },
    {
      "cell_type": "markdown",
      "source": [
        "## spdx-python\n",
        "\n",
        "https://github.com/spdx/tools-python"
      ],
      "metadata": {
        "id": "E8GeqVJitwxM"
      }
    },
    {
      "cell_type": "code",
      "source": [
        "pip install spdx-tools"
      ],
      "metadata": {
        "id": "6eQVOBi5w7Q-"
      },
      "execution_count": null,
      "outputs": []
    },
    {
      "cell_type": "markdown",
      "source": [
        "## spdx-golang\n",
        "\n",
        "https://github.com/spdx/tools-golang"
      ],
      "metadata": {
        "id": "4uhVxB5nMzN4"
      }
    },
    {
      "cell_type": "markdown",
      "source": [
        "\n",
        "\n",
        "---\n",
        "\n"
      ],
      "metadata": {
        "id": "ybz1hlitRo5T"
      }
    }
  ],
  "metadata": {
    "colab": {
      "provenance": [],
      "mount_file_id": "1wESiVDyWOw70wnRPndxcnyTI6RsV0_9m",
      "authorship_tag": "ABX9TyPy+AwAO7YnYiQU5T0O083T",
      "include_colab_link": true
    },
    "kernelspec": {
      "display_name": "Python 3",
      "name": "python3"
    },
    "language_info": {
      "name": "python"
    }
  },
  "nbformat": 4,
  "nbformat_minor": 0
}