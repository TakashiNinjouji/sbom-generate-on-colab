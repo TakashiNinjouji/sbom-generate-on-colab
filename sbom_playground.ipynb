{
  "cells": [
    {
      "cell_type": "markdown",
      "metadata": {
        "id": "view-in-github",
        "colab_type": "text"
      },
      "source": [
        "<a href=\"https://colab.research.google.com/github/TakashiNinjouji/sbom-playground/blob/main/sbom_playground.ipynb\" target=\"_parent\"><img src=\"https://colab.research.google.com/assets/colab-badge.svg\" alt=\"Open In Colab\"/></a>"
      ]
    },
    {
      "cell_type": "markdown",
      "metadata": {
        "id": "cFaSohf8zLy5"
      },
      "source": [
        "# SBOM Playgound\n",
        "\n",
        "Some sbom tools work fine in Google Colaboratory.\n",
        "\n",
        "\n"
      ]
    },
    {
      "cell_type": "markdown",
      "metadata": {
        "id": "d0Ahx2oNOhEe"
      },
      "source": [
        "## System check\n",
        "\n",
        "Chcek the environment in Google Colaboratory.  \n",
        "Linux: Ubuntu 22.04.2 LTS  \n",
        "Python: 3.10.6  \n",
        "Java: openjdk version \"11.0.19\" 2023-04-18"
      ]
    },
    {
      "cell_type": "code",
      "execution_count": null,
      "metadata": {
        "id": "6ZdSUJ0BMNw6"
      },
      "outputs": [],
      "source": [
        "!lsb_release -a"
      ]
    },
    {
      "cell_type": "code",
      "execution_count": null,
      "metadata": {
        "id": "sr19g8-mNB4Q"
      },
      "outputs": [],
      "source": [
        "!uname -a"
      ]
    },
    {
      "cell_type": "code",
      "execution_count": null,
      "metadata": {
        "id": "RDvonS2Y3Cdu"
      },
      "outputs": [],
      "source": [
        "!apt -qq  update &&  apt -y upgrade && apt autoremove"
      ]
    },
    {
      "cell_type": "code",
      "execution_count": null,
      "metadata": {
        "id": "ZoEp99ZOnQ5Y"
      },
      "outputs": [],
      "source": [
        "!python -V"
      ]
    },
    {
      "cell_type": "code",
      "execution_count": null,
      "metadata": {
        "id": "oqGN8MQ6lygZ"
      },
      "outputs": [],
      "source": [
        "!java -version"
      ]
    },
    {
      "cell_type": "markdown",
      "metadata": {
        "id": "4naiQVNZR1W0"
      },
      "source": [
        "# **Tools work in Colaboratory**"
      ]
    },
    {
      "cell_type": "markdown",
      "metadata": {
        "id": "mypvUr37m2IF"
      },
      "source": [
        "## nexB/scancode-toolkit\n",
        "https://github.com/nexB/scancode-toolkit\n"
      ]
    },
    {
      "cell_type": "code",
      "execution_count": null,
      "metadata": {
        "id": "hc5zjPf0nHhe"
      },
      "outputs": [],
      "source": [
        "!sudo apt install bzip2 xz-utils zlib1g libxml2-dev libxslt1-dev\n",
        "#!sudo apt install bzip2 xz-utils zlib1g libxml2-dev libxslt1-dev libpopt0"
      ]
    },
    {
      "cell_type": "code",
      "execution_count": null,
      "metadata": {
        "id": "5WXOuLnypCv3"
      },
      "outputs": [],
      "source": [
        "#!pip install -U  scancode-toolkit==31.2.4\n",
        "!pip install -U  scancode-toolkit"
      ]
    },
    {
      "cell_type": "code",
      "execution_count": null,
      "metadata": {
        "id": "pbZk89oem29Q"
      },
      "outputs": [],
      "source": [
        "!scancode -h"
      ]
    },
    {
      "cell_type": "markdown",
      "metadata": {
        "id": "6J0n3Z_SRxea"
      },
      "source": [
        "## Tern\n",
        "https://github.com/tern-tools/tern"
      ]
    },
    {
      "cell_type": "markdown",
      "metadata": {
        "id": "sGQU5quANjl1"
      },
      "source": [
        "### Preparation & Install\n",
        "\n",
        "Tern needs attr and skopeo.\n",
        "Jq is a useful tool to view JSON data.\n",
        "So, install attr and jq via apt."
      ]
    },
    {
      "cell_type": "code",
      "execution_count": null,
      "metadata": {
        "id": "MAonvKaZNcv1"
      },
      "outputs": [],
      "source": [
        "!apt install attr jq skopeo"
      ]
    },
    {
      "cell_type": "markdown",
      "metadata": {
        "id": "cKr4u2y1pNuD"
      },
      "source": [
        "Install"
      ]
    },
    {
      "cell_type": "code",
      "execution_count": null,
      "metadata": {
        "id": "RGdCXCjYXby8"
      },
      "outputs": [],
      "source": [
        "!pip install tern"
      ]
    },
    {
      "cell_type": "markdown",
      "metadata": {
        "id": "92YbcYUQZxH7"
      },
      "source": [
        "### Try Tern"
      ]
    },
    {
      "cell_type": "code",
      "execution_count": null,
      "metadata": {
        "id": "nNocrKxZZxH7"
      },
      "outputs": [],
      "source": [
        "!tern -v"
      ]
    },
    {
      "cell_type": "code",
      "execution_count": null,
      "metadata": {
        "id": "xaoat31HZxH7"
      },
      "outputs": [],
      "source": [
        "!tern -h"
      ]
    },
    {
      "cell_type": "code",
      "execution_count": null,
      "metadata": {
        "id": "JqBKvqWpZxH7"
      },
      "outputs": [],
      "source": [
        "!tern report -f spdxjson -o tern_alpine-latest_spdx.json -i docker.io/alpine:latest"
      ]
    },
    {
      "cell_type": "code",
      "execution_count": null,
      "metadata": {
        "id": "PPHqP3NOZxH7"
      },
      "outputs": [],
      "source": [
        "!tern report -f spdxtagvalue -o tern_alpine-latest_spdxtv.txt -i docker.io/alpine:latest"
      ]
    },
    {
      "cell_type": "code",
      "execution_count": null,
      "metadata": {
        "id": "0qjVd-Y5GpPw"
      },
      "outputs": [],
      "source": [
        "!cat tern_alpine-latest_spdx.json | jq"
      ]
    },
    {
      "cell_type": "markdown",
      "metadata": {
        "id": "eXZCpy4CGjmB"
      },
      "source": [
        "### Try tern with scancode"
      ]
    },
    {
      "cell_type": "code",
      "execution_count": null,
      "metadata": {
        "id": "6LHz84_0ZxH7"
      },
      "outputs": [],
      "source": [
        "!tern report -x scancode -f spdxjson -o tern-scancode_alpine-latest_spdx.json -i docker.io/alpine:latest"
      ]
    },
    {
      "cell_type": "code",
      "execution_count": null,
      "metadata": {
        "id": "NbJdfanMZxH7"
      },
      "outputs": [],
      "source": [
        "!tern report -x scancode -f spdxtagvalue -o tern-scancode_alpine-latest_spdx.txt -i docker.io/alpine:latest"
      ]
    },
    {
      "cell_type": "code",
      "execution_count": null,
      "metadata": {
        "id": "0o-eOwH8ZxH7"
      },
      "outputs": [],
      "source": [
        "!cat tern-scancode_alpine-latest_spdx.json | jq"
      ]
    },
    {
      "cell_type": "markdown",
      "metadata": {
        "id": "uQOG18DS6Dkd"
      },
      "source": [
        "## OSS Review Toolkit (ORT)"
      ]
    },
    {
      "cell_type": "markdown",
      "metadata": {
        "id": "eJe-MY6GR2zv"
      },
      "source": [
        "### Build natively"
      ]
    },
    {
      "cell_type": "code",
      "execution_count": null,
      "metadata": {
        "colab": {
          "background_save": true
        },
        "id": "p5mOR6AyR-qR"
      },
      "outputs": [],
      "source": [
        "!git clone https://github.com/oss-review-toolkit/ort.git --depth 1 && cd ort &&  ./gradlew installDist"
      ]
    },
    {
      "cell_type": "markdown",
      "metadata": {
        "id": "yU3wDlZqKn_S"
      },
      "source": [
        "### Preparations"
      ]
    },
    {
      "cell_type": "markdown",
      "metadata": {
        "id": "_K3GU7cKKv66"
      },
      "source": [
        "#### Golang\n",
        "\n",
        "Dep is installed manually.\n",
        "\n",
        "\n",
        "```\n",
        "$ !curl -ksS https://raw.githubusercontent.com/golang/dep/master/install.sh | sh\n",
        "ARCH = amd64\n",
        "OS = linux\n",
        "Will install into /root/go/bin\n",
        "Fetching https://github.com/golang/dep/releases/latest..\n",
        "sh: 1: eval: Syntax error: redirection unexpected\n",
        "```"
      ]
    },
    {
      "cell_type": "code",
      "execution_count": null,
      "metadata": {
        "id": "c6Doved5K66c"
      },
      "outputs": [],
      "source": [
        "!sudo apt install golang-go"
      ]
    },
    {
      "cell_type": "code",
      "execution_count": null,
      "metadata": {
        "id": "TpJVvECrVWxl"
      },
      "outputs": [],
      "source": [
        "!wget https://github.com/golang/dep/releases/download/v0.5.4/dep-linux-amd64 && chmod +x dep-linux-amd64 && mv dep-linux-amd64 /usr/bin/dep"
      ]
    },
    {
      "cell_type": "markdown",
      "metadata": {
        "id": "-eVDsYOyqMNG"
      },
      "source": [
        "#### Haskel\n"
      ]
    },
    {
      "cell_type": "code",
      "execution_count": null,
      "metadata": {
        "id": "uMJzyZsVqLGV"
      },
      "outputs": [],
      "source": [
        "#!sudo apt install build-essential curl libffi-dev  libgmp-dev libgmp10 libncurses-dev libncurses5 libtinfo5"
      ]
    },
    {
      "cell_type": "code",
      "execution_count": null,
      "metadata": {
        "id": "te9L2aGVwLeY"
      },
      "outputs": [],
      "source": [
        "#!find /usr/lib -name \"libffi.so*\" && ln -s /usr/lib/x86_64-linux-gnu/libffi.so.7 /usr/lib/x86_64-linux-gnu/libffi.so.6"
      ]
    },
    {
      "cell_type": "code",
      "execution_count": null,
      "metadata": {
        "id": "wshKccZDwspt"
      },
      "outputs": [],
      "source": [
        "###!sudo curl --proto '=https' --tlsv1.2 -sSf https://get-ghcup.haskell.org | sh"
      ]
    },
    {
      "cell_type": "code",
      "execution_count": null,
      "metadata": {
        "id": "hd35-9YZzyy3"
      },
      "outputs": [],
      "source": [
        "#!sudo curl -sSL https://get.haskellstack.org/ | sh -f -s --"
      ]
    },
    {
      "cell_type": "code",
      "execution_count": null,
      "metadata": {
        "id": "UFJa7yYU0usG"
      },
      "outputs": [],
      "source": [
        "#!sudo apt install haskell-stack"
      ]
    },
    {
      "cell_type": "code",
      "execution_count": null,
      "metadata": {
        "id": "FlxVmg7CuPCA"
      },
      "outputs": [],
      "source": [
        "#!stack upgrade"
      ]
    },
    {
      "cell_type": "markdown",
      "metadata": {
        "id": "NROfyHToK2lj"
      },
      "source": [
        "#### JavaScript"
      ]
    },
    {
      "cell_type": "code",
      "execution_count": null,
      "metadata": {
        "id": "iWudr25aK8jM"
      },
      "outputs": [],
      "source": [
        "!npm install --global bower pnpm yarn"
      ]
    },
    {
      "cell_type": "markdown",
      "metadata": {
        "id": "KkJ2oFQgKZOI"
      },
      "source": [
        "#### Python"
      ]
    },
    {
      "cell_type": "code",
      "execution_count": null,
      "metadata": {
        "id": "wH8vwYMjwfq1"
      },
      "outputs": [],
      "source": [
        "!sudo apt install libcairo2-dev pkg-config python3-dev"
      ]
    },
    {
      "cell_type": "code",
      "execution_count": null,
      "metadata": {
        "id": "fYOZpwDnMwHt"
      },
      "outputs": [],
      "source": [
        "pip uninstall python-inspector poetry pycairo pipenv pystan conan --y"
      ]
    },
    {
      "cell_type": "code",
      "execution_count": null,
      "metadata": {
        "id": "XAisnqohHUjN"
      },
      "outputs": [],
      "source": [
        "pip install -U python-inspector poetry pycairo pipenv pystan conan"
      ]
    },
    {
      "cell_type": "code",
      "execution_count": null,
      "metadata": {
        "id": "z-TwWOJ8N_Nv"
      },
      "outputs": [],
      "source": [
        "#pip check"
      ]
    },
    {
      "cell_type": "code",
      "execution_count": null,
      "metadata": {
        "id": "27RY79WqODfX"
      },
      "outputs": [],
      "source": [
        "#pip uninstall --y"
      ]
    },
    {
      "cell_type": "markdown",
      "metadata": {
        "id": "nVpvnNrIK1Dz"
      },
      "source": [
        "#### Rust"
      ]
    },
    {
      "cell_type": "code",
      "execution_count": null,
      "metadata": {
        "id": "ResPxmveK7y8"
      },
      "outputs": [],
      "source": [
        "!sudo apt install cargo"
      ]
    },
    {
      "cell_type": "markdown",
      "metadata": {
        "id": "Zlt7bWAoY1w7"
      },
      "source": [
        "### Try ORT"
      ]
    },
    {
      "cell_type": "code",
      "execution_count": null,
      "metadata": {
        "id": "2fcCLMT7Y1w7"
      },
      "outputs": [],
      "source": [
        "!./ort/cli/build/install/ort/bin/ort --help"
      ]
    },
    {
      "cell_type": "code",
      "execution_count": null,
      "metadata": {
        "id": "y7ZjggPEY1w8"
      },
      "outputs": [],
      "source": [
        "!./ort/cli/build/install/ort/bin/ort requirements"
      ]
    },
    {
      "cell_type": "markdown",
      "metadata": {
        "id": "avy4hTG3ODiq"
      },
      "source": [
        "## Anchore/Syft\n",
        "\n",
        "https://github.com/anchore/syft\n"
      ]
    },
    {
      "cell_type": "markdown",
      "metadata": {
        "id": "ptVK3THaO2pf"
      },
      "source": [
        "The option \"--v\" or \"-q\" is required to run..."
      ]
    },
    {
      "cell_type": "code",
      "execution_count": null,
      "metadata": {
        "id": "Xq3EAMx9OpH_"
      },
      "outputs": [],
      "source": [
        "!curl -sSfL https://raw.githubusercontent.com/anchore/syft/main/install.sh | sh -s -- -b /usr/local/bin"
      ]
    },
    {
      "cell_type": "code",
      "execution_count": null,
      "metadata": {
        "id": "SardeTxKOxCQ"
      },
      "outputs": [],
      "source": [
        "!syft -v"
      ]
    },
    {
      "cell_type": "code",
      "execution_count": null,
      "metadata": {
        "id": "xNw5fPwNh-BK"
      },
      "outputs": [],
      "source": [
        "!syft -h"
      ]
    },
    {
      "cell_type": "code",
      "execution_count": null,
      "metadata": {
        "id": "fu7VJLeEYU2D"
      },
      "outputs": [],
      "source": [
        "!syft -q docker.io/alpine:latest --scope all-layers -o spdx"
      ]
    },
    {
      "cell_type": "code",
      "execution_count": null,
      "metadata": {
        "id": "EoxTlTfVEYeC"
      },
      "outputs": [],
      "source": [
        "!syft -vv docker.io/alpine:latest --scope all-layers"
      ]
    },
    {
      "cell_type": "code",
      "execution_count": null,
      "metadata": {
        "id": "ntzfph_wPjS_"
      },
      "outputs": [],
      "source": [
        "!syft -q docker.io/alpine:latest --scope all-layers -o spdx-tag-value=syft_alpine-latest_spdx-tv.txt"
      ]
    },
    {
      "cell_type": "code",
      "execution_count": null,
      "metadata": {
        "id": "OTGK9qneGab6"
      },
      "outputs": [],
      "source": [
        "!syft -q docker.io/alpine:latest --scope all-layers -o spdx-json=syft_alpine-latest_spdx.json"
      ]
    },
    {
      "cell_type": "markdown",
      "metadata": {
        "id": "v4jUxmUYXz25"
      },
      "source": [
        "## Anchore/Grype\n",
        "\n",
        "https://github.com/anchore/grype\n"
      ]
    },
    {
      "cell_type": "markdown",
      "metadata": {
        "id": "tlDw7p17PD_i"
      },
      "source": [
        "The option \"--v\" or \"-q\" is required to run..."
      ]
    },
    {
      "cell_type": "code",
      "execution_count": null,
      "metadata": {
        "id": "6s8tm4woYELo"
      },
      "outputs": [],
      "source": [
        "!curl -sSfL https://raw.githubusercontent.com/anchore/grype/main/install.sh | sh -s -- -b /usr/local/bin"
      ]
    },
    {
      "cell_type": "code",
      "execution_count": null,
      "metadata": {
        "id": "55PTrFJCcPwi"
      },
      "outputs": [],
      "source": [
        "!grype -q sbom:./syft_alpine-latest_spdx.json -o json"
      ]
    },
    {
      "cell_type": "code",
      "execution_count": null,
      "metadata": {
        "id": "sn2UQ6w_cj8W"
      },
      "outputs": [],
      "source": [
        "!grype -h"
      ]
    },
    {
      "cell_type": "markdown",
      "metadata": {
        "id": "CbBYgq4WG57Q"
      },
      "source": [
        "## NTIA Conformance Checker\n",
        "\n",
        "https://github.com/spdx/ntia-conformance-checker"
      ]
    },
    {
      "cell_type": "code",
      "execution_count": null,
      "metadata": {
        "id": "XXHR1WUKaPRS"
      },
      "outputs": [],
      "source": [
        "pip install ntia-conformance-checker"
      ]
    },
    {
      "cell_type": "code",
      "execution_count": null,
      "metadata": {
        "id": "LrL18p5baYgZ"
      },
      "outputs": [],
      "source": [
        "pip freeze | grep ntia-conformance-checker"
      ]
    },
    {
      "cell_type": "code",
      "execution_count": null,
      "metadata": {
        "id": "K-W_IpGla_zy"
      },
      "outputs": [],
      "source": [
        "!ntia-checker --verbose --file syft_alpine-latest_spdx.json"
      ]
    },
    {
      "cell_type": "markdown",
      "metadata": {
        "id": "bpAbLs62KCCP"
      },
      "source": [
        "## Kubernetes BOM\n",
        "\n",
        "https://github.com/kubernetes-sigs/bom\n"
      ]
    },
    {
      "cell_type": "code",
      "execution_count": null,
      "metadata": {
        "id": "UIqZEK0dKFpZ"
      },
      "outputs": [],
      "source": [
        "%%bash\n",
        "curl -L  https://github.com/kubernetes-sigs/bom/releases/download/v0.2.2/bom-linux-amd64  -o bom\n",
        "sudo mv ./bom /usr/bin/bom\n",
        "sudo chmod +x /usr/bin/bom"
      ]
    },
    {
      "cell_type": "code",
      "execution_count": null,
      "metadata": {
        "id": "QrzUEZX3Dd_L"
      },
      "outputs": [],
      "source": [
        "!bom document outline"
      ]
    },
    {
      "cell_type": "code",
      "execution_count": null,
      "metadata": {
        "id": "wvXQ4PfSK8Xs"
      },
      "outputs": [],
      "source": [
        "!bom generate --format json --output=debian.json --image debian@sha256:0aac521df91463e54189d82fe820b6d36b4a0992751c8339fbdd42e2bc1aa491"
      ]
    },
    {
      "cell_type": "code",
      "execution_count": null,
      "metadata": {
        "id": "bOlYThXnKL7S"
      },
      "outputs": [],
      "source": [
        "!bom document outline debian.spdx"
      ]
    },
    {
      "cell_type": "markdown",
      "metadata": {
        "id": "2nbc8FHxRTrP"
      },
      "source": [
        "\n",
        "\n",
        "---\n",
        "\n"
      ]
    },
    {
      "cell_type": "markdown",
      "metadata": {
        "id": "qAVaMrxyVNad"
      },
      "source": [
        "## Aquasecurity/Trivy\n",
        "\n",
        "https://github.com/aquasecurity/trivy\n",
        "\n",
        "Trivy needs docker or podman...\n"
      ]
    },
    {
      "cell_type": "code",
      "execution_count": null,
      "metadata": {
        "id": "JBRyIYYeVWvu"
      },
      "outputs": [],
      "source": [
        "!curl -sfL https://raw.githubusercontent.com/aquasecurity/trivy/main/contrib/install.sh | sh -s -- -b /usr/local/bin v0.43.1"
      ]
    },
    {
      "cell_type": "code",
      "execution_count": null,
      "metadata": {
        "id": "5PFboTRLV_RD"
      },
      "outputs": [],
      "source": [
        "!trivy -h"
      ]
    },
    {
      "cell_type": "code",
      "execution_count": null,
      "metadata": {
        "id": "oufBlWUxIyKR"
      },
      "outputs": [],
      "source": [
        "!trivy image docker.io/alpine:lates"
      ]
    },
    {
      "cell_type": "markdown",
      "metadata": {
        "id": "N_ygr-7-QkNg"
      },
      "source": [
        "# **Under investigation**\n"
      ]
    },
    {
      "cell_type": "markdown",
      "metadata": {
        "id": "9TSxnSL6TM89"
      },
      "source": [
        "## Microsoft/sbom-tool\n",
        "\n",
        "https://github.com/microsoft/sbom-tool\n",
        "\n"
      ]
    },
    {
      "cell_type": "code",
      "execution_count": null,
      "metadata": {
        "id": "7r0B6nBmOy_q"
      },
      "outputs": [],
      "source": [
        "%%shell\n",
        "curl -Lo sbom-tool https://github.com/microsoft/sbom-tool/releases/latest/download/sbom-tool-linux-x64\n",
        "chmod +x sbom-tool\n",
        "mv sbom-tool /usr/local/bin"
      ]
    },
    {
      "cell_type": "code",
      "execution_count": null,
      "metadata": {
        "id": "s5ToOvDoPGQR"
      },
      "outputs": [],
      "source": [
        "!sbom-tool generate -help"
      ]
    },
    {
      "cell_type": "markdown",
      "metadata": {
        "id": "E8GeqVJitwxM"
      },
      "source": [
        "## spdx-python\n",
        "\n",
        "https://github.com/spdx/tools-python"
      ]
    },
    {
      "cell_type": "code",
      "execution_count": null,
      "metadata": {
        "id": "6eQVOBi5w7Q-"
      },
      "outputs": [],
      "source": [
        "pip install spdx-tools"
      ]
    },
    {
      "cell_type": "markdown",
      "metadata": {
        "id": "4uhVxB5nMzN4"
      },
      "source": [
        "## spdx-golang\n",
        "\n",
        "https://github.com/spdx/tools-golang"
      ]
    },
    {
      "cell_type": "code",
      "execution_count": null,
      "metadata": {
        "id": "av4YPjKcM5MP"
      },
      "outputs": [],
      "source": []
    },
    {
      "cell_type": "markdown",
      "metadata": {
        "id": "ybz1hlitRo5T"
      },
      "source": [
        "\n",
        "\n",
        "---\n",
        "\n"
      ]
    }
  ],
  "metadata": {
    "colab": {
      "provenance": [],
      "mount_file_id": "1wESiVDyWOw70wnRPndxcnyTI6RsV0_9m",
      "authorship_tag": "ABX9TyOABKBe9BVa+AYT3h59gRBl",
      "include_colab_link": true
    },
    "kernelspec": {
      "display_name": "Python 3",
      "name": "python3"
    },
    "language_info": {
      "name": "python"
    }
  },
  "nbformat": 4,
  "nbformat_minor": 0
}