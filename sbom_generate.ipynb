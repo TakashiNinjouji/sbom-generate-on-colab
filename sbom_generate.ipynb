{
  "cells": [
    {
      "cell_type": "markdown",
      "metadata": {
        "id": "view-in-github",
        "colab_type": "text"
      },
      "source": [
        "<a href=\"https://colab.research.google.com/github/TakashiNinjouji/sbom-creation-in-colab/blob/main/sbom_generate.ipynb\" target=\"_parent\"><img src=\"https://colab.research.google.com/assets/colab-badge.svg\" alt=\"Open In Colab\"/></a>"
      ]
    },
    {
      "cell_type": "markdown",
      "source": [
        "# SBOM Generate in Google Colaboratory\n",
        "\n",
        "Some sbom tools work fien in Google Colaboratory.\n"
      ],
      "metadata": {
        "id": "cFaSohf8zLy5"
      }
    },
    {
      "cell_type": "markdown",
      "metadata": {
        "id": "d0Ahx2oNOhEe"
      },
      "source": [
        "## System check\n",
        "\n",
        "Chcek the environment in Google Colaboratory.   \n",
        "Linux: Ubuntu 20.04 LTS   \n",
        "Python: 3.8.10  \n",
        "Java: 11.0.17"
      ]
    },
    {
      "cell_type": "code",
      "execution_count": null,
      "metadata": {
        "id": "6ZdSUJ0BMNw6"
      },
      "outputs": [],
      "source": [
        "!lsb_release -a"
      ]
    },
    {
      "cell_type": "code",
      "execution_count": null,
      "metadata": {
        "id": "sr19g8-mNB4Q"
      },
      "outputs": [],
      "source": [
        "!uname -a"
      ]
    },
    {
      "cell_type": "code",
      "execution_count": null,
      "metadata": {
        "id": "RDvonS2Y3Cdu"
      },
      "outputs": [],
      "source": [
        "!apt -qq  update &&  apt -y upgrade && apt autoremove"
      ]
    },
    {
      "cell_type": "code",
      "execution_count": null,
      "metadata": {
        "id": "ZoEp99ZOnQ5Y"
      },
      "outputs": [],
      "source": [
        "!python -V"
      ]
    },
    {
      "cell_type": "code",
      "source": [
        "!java -version"
      ],
      "metadata": {
        "id": "oqGN8MQ6lygZ"
      },
      "execution_count": null,
      "outputs": []
    },
    {
      "cell_type": "markdown",
      "source": [
        "# **Tools work in Colaboratory**"
      ],
      "metadata": {
        "id": "4naiQVNZR1W0"
      }
    },
    {
      "cell_type": "markdown",
      "metadata": {
        "id": "mypvUr37m2IF"
      },
      "source": [
        "## nexB/scancode-toolkit\n",
        "https://github.com/nexB/scancode-toolkit\n"
      ]
    },
    {
      "cell_type": "code",
      "execution_count": null,
      "metadata": {
        "id": "hc5zjPf0nHhe"
      },
      "outputs": [],
      "source": [
        "!sudo apt install python-dev bzip2 xz-utils zlib1g libxml2-dev libxslt1-dev libpopt0"
      ]
    },
    {
      "cell_type": "code",
      "source": [
        "pip install -U  scancode-toolkit==31.2.4"
      ],
      "metadata": {
        "id": "BOBQ7gTQrGCo"
      },
      "execution_count": null,
      "outputs": []
    },
    {
      "cell_type": "code",
      "source": [
        "!scancode -V"
      ],
      "metadata": {
        "id": "5WXOuLnypCv3"
      },
      "execution_count": null,
      "outputs": []
    },
    {
      "cell_type": "markdown",
      "source": [
        "## Tern\n",
        "https://github.com/tern-tools/tern"
      ],
      "metadata": {
        "id": "6J0n3Z_SRxea"
      }
    },
    {
      "cell_type": "markdown",
      "metadata": {
        "id": "sGQU5quANjl1"
      },
      "source": [
        "### Preparation　\n",
        "\n",
        "Tern needs attr and skopeo.  \n",
        "Jq is a useful tool to view JSON data.  \n",
        "So, install attr and jq via apt."
      ]
    },
    {
      "cell_type": "code",
      "execution_count": null,
      "metadata": {
        "id": "MAonvKaZNcv1"
      },
      "outputs": [],
      "source": [
        "!apt install attr jq"
      ]
    },
    {
      "cell_type": "markdown",
      "source": [
        "**CAUTION**  \n",
        "\n",
        "\n",
        "\n",
        "1.   Skopeo is not in the standard packages of Ubuntu 20.04. Therefore, this playground uses some deb files, such as skopeo (1.2.2+dfsg1-1) and its dependencies, from the debian packages.\n",
        "2.   Please modify the URL of the ftp server to use an appropriate mirror :)\n",
        "\n"
      ],
      "metadata": {
        "id": "8a-o0fLfvbhD"
      }
    },
    {
      "cell_type": "code",
      "execution_count": null,
      "metadata": {
        "id": "3FoymrTC3vJM"
      },
      "outputs": [],
      "source": [
        "!wget http://ftp.jp.debian.org/debian/pool/main/g/golang-github-containers-image/golang-github-containers-image_5.10.3-1_all.deb && apt install ./golang-github-containers-image_5.10.3-1_all.deb && rm ./golang-github-containers-image_5.10.3-1_all.deb"
      ]
    },
    {
      "cell_type": "code",
      "execution_count": null,
      "metadata": {
        "id": "jF2WbBRZ3GyF"
      },
      "outputs": [],
      "source": [
        "!wget http://ftp.jp.debian.org/debian/pool/main/g/golang-github-containers-common/golang-github-containers-common_0.33.4+ds1-1+deb11u1_all.deb && apt install ./golang-github-containers-common_0.33.4+ds1-1+deb11u1_all.deb && rm ./golang-github-containers-common_0.33.4+ds1-1+deb11u1_all.deb"
      ]
    },
    {
      "cell_type": "code",
      "execution_count": null,
      "metadata": {
        "id": "6aVjxFyG0rTP"
      },
      "outputs": [],
      "source": [
        "!wget http://ftp.jp.debian.org/debian/pool/main/s/skopeo/skopeo_1.2.2+dfsg1-1+b6_amd64.deb && apt install ./skopeo_1.2.2+dfsg1-1+b6_amd64.deb && rm ./skopeo_1.2.2+dfsg1-1+b6_amd64.deb"
      ]
    },
    {
      "cell_type": "code",
      "source": [
        "!skopeo -v"
      ],
      "metadata": {
        "id": "TUzonMSiHMQn"
      },
      "execution_count": null,
      "outputs": []
    },
    {
      "cell_type": "markdown",
      "source": [
        "###  pip install from the main repository in Github\n",
        "\n",
        "Currently, tern 2.11.0 and scancode-toolkit 31.2.4 have a problem with Python module dependencies."
      ],
      "metadata": {
        "id": "SDk3OX_EXN8U"
      }
    },
    {
      "cell_type": "code",
      "source": [
        "!pip install -U jedi pytest"
      ],
      "metadata": {
        "id": "n1QnDuvAXUSb"
      },
      "execution_count": null,
      "outputs": []
    },
    {
      "cell_type": "code",
      "source": [
        "!pip install git+https://github.com/tern-tools/tern.git@main"
      ],
      "metadata": {
        "id": "RGdCXCjYXby8"
      },
      "execution_count": null,
      "outputs": []
    },
    {
      "cell_type": "markdown",
      "metadata": {
        "id": "92YbcYUQZxH7"
      },
      "source": [
        "### Try Tern"
      ]
    },
    {
      "cell_type": "code",
      "execution_count": null,
      "metadata": {
        "id": "nNocrKxZZxH7"
      },
      "outputs": [],
      "source": [
        "!tern -v"
      ]
    },
    {
      "cell_type": "code",
      "source": [
        "!tern -h"
      ],
      "metadata": {
        "id": "xaoat31HZxH7"
      },
      "execution_count": null,
      "outputs": []
    },
    {
      "cell_type": "code",
      "source": [
        "!tern report -f spdxjson -o tern_alpine-latest_spdx.json -i docker.io/alpine:latest"
      ],
      "metadata": {
        "id": "JqBKvqWpZxH7"
      },
      "execution_count": null,
      "outputs": []
    },
    {
      "cell_type": "code",
      "source": [
        "!tern report -f spdxtagvalue -o tern_alpine-latest_spdxtv.txt -i docker.io/alpine:latest"
      ],
      "metadata": {
        "id": "PPHqP3NOZxH7"
      },
      "execution_count": null,
      "outputs": []
    },
    {
      "cell_type": "code",
      "source": [
        "!cat tern_alpine-latest_spdx.json | jq"
      ],
      "metadata": {
        "id": "0qjVd-Y5GpPw"
      },
      "execution_count": null,
      "outputs": []
    },
    {
      "cell_type": "markdown",
      "source": [
        "### Try tern with scancode"
      ],
      "metadata": {
        "id": "eXZCpy4CGjmB"
      }
    },
    {
      "cell_type": "code",
      "source": [
        "!tern report -x scancode -f spdxjson -o tern-scancode_alpine-latest_spdx.json -i docker.io/alpine:latest"
      ],
      "metadata": {
        "id": "6LHz84_0ZxH7"
      },
      "execution_count": null,
      "outputs": []
    },
    {
      "cell_type": "code",
      "source": [
        "!tern report -x scancode -f spdxtagvalue -o tern-scancode_alpine-latest_spdx.txt -i docker.io/alpine:latest"
      ],
      "metadata": {
        "id": "NbJdfanMZxH7"
      },
      "execution_count": null,
      "outputs": []
    },
    {
      "cell_type": "code",
      "execution_count": null,
      "metadata": {
        "id": "0o-eOwH8ZxH7"
      },
      "outputs": [],
      "source": [
        "!cat tern-scancode_alpine-latest_spdx.json | jq"
      ]
    },
    {
      "cell_type": "markdown",
      "source": [
        "## OSS Review Toolkit (ORT)"
      ],
      "metadata": {
        "id": "uQOG18DS6Dkd"
      }
    },
    {
      "cell_type": "markdown",
      "source": [
        "### Build natively"
      ],
      "metadata": {
        "id": "eJe-MY6GR2zv"
      }
    },
    {
      "cell_type": "code",
      "source": [
        "!git clone https://github.com/oss-review-toolkit/ort.git --depth 1 && cd ort &&  ./gradlew installDist"
      ],
      "metadata": {
        "id": "p5mOR6AyR-qR"
      },
      "execution_count": null,
      "outputs": []
    },
    {
      "cell_type": "markdown",
      "source": [
        "### Preparations"
      ],
      "metadata": {
        "id": "yU3wDlZqKn_S"
      }
    },
    {
      "cell_type": "markdown",
      "source": [
        "#### Golang\n",
        "\n",
        "Dep is installed manually. \n",
        "\n",
        "\n",
        "```\n",
        "$ !curl -ksS https://raw.githubusercontent.com/golang/dep/master/install.sh | sh\n",
        "ARCH = amd64\n",
        "OS = linux\n",
        "Will install into /root/go/bin\n",
        "Fetching https://github.com/golang/dep/releases/latest..\n",
        "sh: 1: eval: Syntax error: redirection unexpected\n",
        "```"
      ],
      "metadata": {
        "id": "_K3GU7cKKv66"
      }
    },
    {
      "cell_type": "code",
      "source": [
        "!sudo apt install golang-go"
      ],
      "metadata": {
        "id": "c6Doved5K66c"
      },
      "execution_count": null,
      "outputs": []
    },
    {
      "cell_type": "code",
      "source": [
        "!wget https://github.com/golang/dep/releases/download/v0.5.4/dep-linux-amd64 && chmod +x dep-linux-amd64 && mv dep-linux-amd64 /usr/bin/dep"
      ],
      "metadata": {
        "id": "TpJVvECrVWxl"
      },
      "execution_count": null,
      "outputs": []
    },
    {
      "cell_type": "markdown",
      "source": [
        "#### Haskel\n"
      ],
      "metadata": {
        "id": "-eVDsYOyqMNG"
      }
    },
    {
      "cell_type": "code",
      "source": [
        "#!sudo apt install build-essential curl libffi-dev  libgmp-dev libgmp10 libncurses-dev libncurses5 libtinfo5"
      ],
      "metadata": {
        "id": "uMJzyZsVqLGV"
      },
      "execution_count": null,
      "outputs": []
    },
    {
      "cell_type": "code",
      "source": [
        "#!find /usr/lib -name \"libffi.so*\" && ln -s /usr/lib/x86_64-linux-gnu/libffi.so.7 /usr/lib/x86_64-linux-gnu/libffi.so.6"
      ],
      "metadata": {
        "id": "te9L2aGVwLeY"
      },
      "execution_count": null,
      "outputs": []
    },
    {
      "cell_type": "code",
      "source": [
        "###!sudo curl --proto '=https' --tlsv1.2 -sSf https://get-ghcup.haskell.org | sh"
      ],
      "metadata": {
        "id": "wshKccZDwspt"
      },
      "execution_count": null,
      "outputs": []
    },
    {
      "cell_type": "code",
      "source": [
        "#!sudo curl -sSL https://get.haskellstack.org/ | sh -f -s -- "
      ],
      "metadata": {
        "id": "hd35-9YZzyy3"
      },
      "execution_count": null,
      "outputs": []
    },
    {
      "cell_type": "code",
      "source": [
        "#!sudo apt install haskell-stack"
      ],
      "metadata": {
        "id": "UFJa7yYU0usG"
      },
      "execution_count": null,
      "outputs": []
    },
    {
      "cell_type": "code",
      "source": [
        "#!stack upgrade "
      ],
      "metadata": {
        "id": "FlxVmg7CuPCA"
      },
      "execution_count": null,
      "outputs": []
    },
    {
      "cell_type": "markdown",
      "source": [
        "#### JavaScript"
      ],
      "metadata": {
        "id": "NROfyHToK2lj"
      }
    },
    {
      "cell_type": "code",
      "source": [
        "!npm install --global bower pnpm yarn"
      ],
      "metadata": {
        "id": "iWudr25aK8jM"
      },
      "execution_count": null,
      "outputs": []
    },
    {
      "cell_type": "markdown",
      "source": [
        "#### Python"
      ],
      "metadata": {
        "id": "KkJ2oFQgKZOI"
      }
    },
    {
      "cell_type": "code",
      "source": [
        "!sudo apt install libcairo2-dev pkg-config python3-dev"
      ],
      "metadata": {
        "id": "wH8vwYMjwfq1"
      },
      "execution_count": null,
      "outputs": []
    },
    {
      "cell_type": "code",
      "source": [
        "pip uninstall python-inspector poetry pycairo pipenv pystan conan --y"
      ],
      "metadata": {
        "id": "fYOZpwDnMwHt"
      },
      "execution_count": null,
      "outputs": []
    },
    {
      "cell_type": "code",
      "source": [
        "pip install -U python-inspector poetry pycairo pipenv pystan conan"
      ],
      "metadata": {
        "id": "XAisnqohHUjN"
      },
      "execution_count": null,
      "outputs": []
    },
    {
      "cell_type": "code",
      "source": [
        "#pip check"
      ],
      "metadata": {
        "id": "z-TwWOJ8N_Nv"
      },
      "execution_count": null,
      "outputs": []
    },
    {
      "cell_type": "code",
      "source": [
        "#pip uninstall --y "
      ],
      "metadata": {
        "id": "27RY79WqODfX"
      },
      "execution_count": null,
      "outputs": []
    },
    {
      "cell_type": "markdown",
      "source": [
        "#### Rust"
      ],
      "metadata": {
        "id": "nVpvnNrIK1Dz"
      }
    },
    {
      "cell_type": "code",
      "source": [
        "!sudo apt install cargo"
      ],
      "metadata": {
        "id": "ResPxmveK7y8"
      },
      "execution_count": null,
      "outputs": []
    },
    {
      "cell_type": "markdown",
      "source": [
        "### Try ORT "
      ],
      "metadata": {
        "id": "Zlt7bWAoY1w7"
      }
    },
    {
      "cell_type": "code",
      "source": [
        "!./ort/cli/build/install/ort/bin/ort --help"
      ],
      "metadata": {
        "id": "2fcCLMT7Y1w7"
      },
      "execution_count": null,
      "outputs": []
    },
    {
      "cell_type": "code",
      "source": [
        "!./ort/cli/build/install/ort/bin/ort requirements"
      ],
      "metadata": {
        "id": "y7ZjggPEY1w8"
      },
      "execution_count": null,
      "outputs": []
    },
    {
      "cell_type": "markdown",
      "metadata": {
        "id": "avy4hTG3ODiq"
      },
      "source": [
        "## Anchore/Syft\n",
        "\n",
        "https://github.com/anchore/syft\n"
      ]
    },
    {
      "cell_type": "markdown",
      "source": [
        "The option \"--v\" or \"-q\" is required to run..."
      ],
      "metadata": {
        "id": "ptVK3THaO2pf"
      }
    },
    {
      "cell_type": "code",
      "execution_count": null,
      "metadata": {
        "id": "Xq3EAMx9OpH_"
      },
      "outputs": [],
      "source": [
        "#!curl -sSfL https://raw.githubusercontent.com/anchore/syft/v0.68.1/install.sh | sh -s -- -b /usr/local/bin\n",
        "!curl -sSfL https://raw.githubusercontent.com/anchore/syft/main/install.sh | sh -s -- -b /usr/local/bin\n"
      ]
    },
    {
      "cell_type": "code",
      "execution_count": null,
      "metadata": {
        "id": "SardeTxKOxCQ"
      },
      "outputs": [],
      "source": [
        "!syft -v"
      ]
    },
    {
      "cell_type": "code",
      "source": [
        "!syft -h"
      ],
      "metadata": {
        "id": "xNw5fPwNh-BK"
      },
      "execution_count": null,
      "outputs": []
    },
    {
      "cell_type": "code",
      "source": [
        "!syft -q docker.io/alpine:latest --scope all-layers -o spdx"
      ],
      "metadata": {
        "id": "fu7VJLeEYU2D"
      },
      "execution_count": null,
      "outputs": []
    },
    {
      "cell_type": "code",
      "source": [
        "!syft -vv docker.io/alpine:latest --scope all-layers"
      ],
      "metadata": {
        "id": "EoxTlTfVEYeC"
      },
      "execution_count": null,
      "outputs": []
    },
    {
      "cell_type": "code",
      "execution_count": null,
      "metadata": {
        "id": "ntzfph_wPjS_"
      },
      "outputs": [],
      "source": [
        "!syft -q docker.io/alpine:latest --scope all-layers -o spdx-tag-value=syft_alpine-latest_spdx-tv.txt"
      ]
    },
    {
      "cell_type": "code",
      "source": [
        "!syft -q docker.io/alpine:latest --scope all-layers -o spdx-json=syft_alpine-latest_spdx.json"
      ],
      "metadata": {
        "id": "OTGK9qneGab6"
      },
      "execution_count": null,
      "outputs": []
    },
    {
      "cell_type": "markdown",
      "source": [
        "## Anchore/Grype \n",
        "\n",
        "https://github.com/anchore/grype\n"
      ],
      "metadata": {
        "id": "v4jUxmUYXz25"
      }
    },
    {
      "cell_type": "markdown",
      "source": [
        "The option \"--v\" or \"-q\" is required to run..."
      ],
      "metadata": {
        "id": "tlDw7p17PD_i"
      }
    },
    {
      "cell_type": "code",
      "source": [
        "!curl -sSfL https://raw.githubusercontent.com/anchore/grype/main/install.sh | sh -s -- -b /usr/local/bin"
      ],
      "metadata": {
        "id": "6s8tm4woYELo"
      },
      "execution_count": null,
      "outputs": []
    },
    {
      "cell_type": "code",
      "source": [
        "!grype -q sbom:./syft_alpine-latest_spdx.json -o json"
      ],
      "metadata": {
        "id": "55PTrFJCcPwi"
      },
      "execution_count": null,
      "outputs": []
    },
    {
      "cell_type": "code",
      "source": [
        "!grype -h"
      ],
      "metadata": {
        "id": "sn2UQ6w_cj8W"
      },
      "execution_count": null,
      "outputs": []
    },
    {
      "cell_type": "markdown",
      "source": [
        "## Kubernetes BOM \n",
        "\n",
        "https://github.com/kubernetes-sigs/bom"
      ],
      "metadata": {
        "id": "bpAbLs62KCCP"
      }
    },
    {
      "cell_type": "code",
      "source": [
        "%%bash\n",
        "wget https://go.dev/dl/go1.19.5.linux-amd64.tar.gz\n",
        "sudo rm -rf /usr/local/go && tar -C /usr/local -xzf go1.19.5.linux-amd64.tar.gz && rm go1.19.5.linux-amd64.tar.gz"
      ],
      "metadata": {
        "id": "UIqZEK0dKFpZ"
      },
      "execution_count": null,
      "outputs": []
    },
    {
      "cell_type": "code",
      "source": [
        "%mkdir /root/go\n",
        "%env GOPATH=/root/go"
      ],
      "metadata": {
        "id": "m2X8ww76-5gb"
      },
      "execution_count": null,
      "outputs": []
    },
    {
      "cell_type": "code",
      "source": [
        "#%env PATH=PATH:/usr/local/go/bin\n",
        "import os\n",
        "os.environ['PATH'] += ':/usr/local/go/bin:/root/go/bin'"
      ],
      "metadata": {
        "id": "3ddJRjS2MRes"
      },
      "execution_count": null,
      "outputs": []
    },
    {
      "cell_type": "code",
      "source": [
        "!go install sigs.k8s.io/bom/cmd/bom@latest"
      ],
      "metadata": {
        "id": "l_3SP4iUBIi-"
      },
      "execution_count": null,
      "outputs": []
    },
    {
      "cell_type": "code",
      "source": [
        "!bom"
      ],
      "metadata": {
        "id": "QrzUEZX3Dd_L"
      },
      "execution_count": null,
      "outputs": []
    },
    {
      "cell_type": "code",
      "source": [
        "!bom generate --format json --output=debian.json --image debian@sha256:0aac521df91463e54189d82fe820b6d36b4a0992751c8339fbdd42e2bc1aa491 "
      ],
      "metadata": {
        "id": "wvXQ4PfSK8Xs"
      },
      "execution_count": null,
      "outputs": []
    },
    {
      "cell_type": "code",
      "source": [
        "!bom document outline debian.spdx"
      ],
      "metadata": {
        "id": "bOlYThXnKL7S"
      },
      "execution_count": null,
      "outputs": []
    },
    {
      "cell_type": "markdown",
      "source": [
        "\n",
        "\n",
        "---\n",
        "\n"
      ],
      "metadata": {
        "id": "2nbc8FHxRTrP"
      }
    },
    {
      "cell_type": "markdown",
      "source": [
        "# **Under investigation**\n"
      ],
      "metadata": {
        "id": "N_ygr-7-QkNg"
      }
    },
    {
      "cell_type": "markdown",
      "source": [
        "## Aquasecurity/Trivy\n",
        "\n",
        "https://github.com/aquasecurity/trivy\n",
        "\n",
        "Trivy needs docker or podman...\n"
      ],
      "metadata": {
        "id": "qAVaMrxyVNad"
      }
    },
    {
      "cell_type": "code",
      "source": [
        "!add-apt-repository -y ppa:projectatomic/ppa"
      ],
      "metadata": {
        "id": "BfhoVajlLrcU"
      },
      "execution_count": null,
      "outputs": []
    },
    {
      "cell_type": "code",
      "source": [
        "!apt install podman"
      ],
      "metadata": {
        "id": "ozZH1-cNKaew"
      },
      "execution_count": null,
      "outputs": []
    },
    {
      "cell_type": "code",
      "source": [
        "!podman -h"
      ],
      "metadata": {
        "id": "evS531ONMEp_"
      },
      "execution_count": null,
      "outputs": []
    },
    {
      "cell_type": "code",
      "source": [
        "!curl -sfL https://raw.githubusercontent.com/aquasecurity/trivy/main/contrib/install.sh | sh -s -- -b /usr/local/bin v0.36.1"
      ],
      "metadata": {
        "id": "JBRyIYYeVWvu"
      },
      "execution_count": null,
      "outputs": []
    },
    {
      "cell_type": "code",
      "source": [
        "!trivy -h"
      ],
      "metadata": {
        "id": "5PFboTRLV_RD"
      },
      "execution_count": null,
      "outputs": []
    },
    {
      "cell_type": "code",
      "source": [
        "!trivy image docker.io/alpine:lates"
      ],
      "metadata": {
        "id": "oufBlWUxIyKR"
      },
      "execution_count": null,
      "outputs": []
    },
    {
      "cell_type": "markdown",
      "metadata": {
        "id": "9TSxnSL6TM89"
      },
      "source": [
        "## Microsoft/sbom-tool\n",
        "\n",
        "https://github.com/microsoft/sbom-tool\n",
        "\n"
      ]
    },
    {
      "cell_type": "code",
      "source": [
        "%%shell\n",
        "curl -Lo sbom-tool https://github.com/microsoft/sbom-tool/releases/latest/download/sbom-tool-linux-x64\n",
        "chmod +x sbom-tool\n",
        "mv sbom-tool /usr/local/bin"
      ],
      "metadata": {
        "id": "7r0B6nBmOy_q"
      },
      "execution_count": null,
      "outputs": []
    },
    {
      "cell_type": "code",
      "source": [
        "!sbom-tool generate -help"
      ],
      "metadata": {
        "id": "s5ToOvDoPGQR"
      },
      "execution_count": null,
      "outputs": []
    },
    {
      "cell_type": "markdown",
      "source": [
        "## spdx-python \n",
        "\n",
        "https://github.com/spdx/tools-python"
      ],
      "metadata": {
        "id": "E8GeqVJitwxM"
      }
    },
    {
      "cell_type": "code",
      "source": [
        "#pip install git+https://github.com/spdx/tools-python.git@v0.7.0"
      ],
      "metadata": {
        "id": "M2abyOPzuujc"
      },
      "execution_count": null,
      "outputs": []
    },
    {
      "cell_type": "code",
      "source": [
        "pip install spdx-tools"
      ],
      "metadata": {
        "id": "6eQVOBi5w7Q-"
      },
      "execution_count": null,
      "outputs": []
    },
    {
      "cell_type": "code",
      "source": [
        "!pyspdxtools_parser --hel"
      ],
      "metadata": {
        "id": "drpZhFNvu-73"
      },
      "execution_count": null,
      "outputs": []
    },
    {
      "cell_type": "markdown",
      "source": [
        "## spdx-java\n",
        "\n",
        "https://github.com/spdx/tools-java"
      ],
      "metadata": {
        "id": "bUDW5MWAMp0F"
      }
    },
    {
      "cell_type": "code",
      "source": [],
      "metadata": {
        "id": "reXfLkq0Mn7m"
      },
      "execution_count": null,
      "outputs": []
    },
    {
      "cell_type": "markdown",
      "source": [
        "## spdx-golang\n",
        "\n",
        "https://github.com/spdx/tools-golang"
      ],
      "metadata": {
        "id": "4uhVxB5nMzN4"
      }
    },
    {
      "cell_type": "code",
      "source": [],
      "metadata": {
        "id": "av4YPjKcM5MP"
      },
      "execution_count": null,
      "outputs": []
    },
    {
      "cell_type": "markdown",
      "source": [
        "\n",
        "\n",
        "---\n",
        "\n"
      ],
      "metadata": {
        "id": "ybz1hlitRo5T"
      }
    }
  ],
  "metadata": {
    "colab": {
      "provenance": [],
      "mount_file_id": "1wESiVDyWOw70wnRPndxcnyTI6RsV0_9m",
      "authorship_tag": "ABX9TyPuGlhL3ZU3dC815CpUVdep",
      "include_colab_link": true
    },
    "kernelspec": {
      "display_name": "Python 3",
      "name": "python3"
    },
    "language_info": {
      "name": "python"
    }
  },
  "nbformat": 4,
  "nbformat_minor": 0
}