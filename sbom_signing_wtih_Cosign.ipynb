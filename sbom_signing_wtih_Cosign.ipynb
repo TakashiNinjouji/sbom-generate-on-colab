{
  "nbformat": 4,
  "nbformat_minor": 0,
  "metadata": {
    "colab": {
      "provenance": [],
      "authorship_tag": "ABX9TyN8MDxd/44cgih2Vy8p4kHK",
      "include_colab_link": true
    },
    "kernelspec": {
      "name": "python3",
      "display_name": "Python 3"
    },
    "language_info": {
      "name": "python"
    }
  },
  "cells": [
    {
      "cell_type": "markdown",
      "metadata": {
        "id": "view-in-github",
        "colab_type": "text"
      },
      "source": [
        "<a href=\"https://colab.research.google.com/github/TakashiNinjouji/sbom-playground/blob/main/sbom_signing_wtih_Cosign.ipynb\" target=\"_parent\"><img src=\"https://colab.research.google.com/assets/colab-badge.svg\" alt=\"Open In Colab\"/></a>"
      ]
    },
    {
      "cell_type": "markdown",
      "source": [
        "# SBOM Signing with Cosign"
      ],
      "metadata": {
        "id": "kbYyoLTp1-y8"
      }
    },
    {
      "cell_type": "markdown",
      "metadata": {
        "id": "d0Ahx2oNOhEe"
      },
      "source": [
        "## System check\n",
        "\n",
        "Check the environment in Google Colaboratory.   \n",
        "Linux: Ubuntu 22.04.2 LTS   \n"
      ]
    },
    {
      "cell_type": "code",
      "execution_count": null,
      "metadata": {
        "id": "6ZdSUJ0BMNw6"
      },
      "outputs": [],
      "source": [
        "!lsb_release -a"
      ]
    },
    {
      "cell_type": "code",
      "execution_count": null,
      "metadata": {
        "id": "sr19g8-mNB4Q"
      },
      "outputs": [],
      "source": [
        "!uname -a"
      ]
    },
    {
      "cell_type": "code",
      "execution_count": null,
      "metadata": {
        "id": "RDvonS2Y3Cdu"
      },
      "outputs": [],
      "source": [
        "!apt -qq  update &&  apt -y upgrade && apt autoremove"
      ]
    },
    {
      "cell_type": "code",
      "source": [],
      "metadata": {
        "id": "VqKQGuXtOUxW"
      },
      "execution_count": null,
      "outputs": []
    },
    {
      "cell_type": "markdown",
      "source": [
        "## Go installation\n",
        "Almost according to: \"Download and install\" `(https://go.dev/doc/install)  \n",
        "go version go1.20.7 linux/amd64"
      ],
      "metadata": {
        "id": "E3gQVVIh17wl"
      }
    },
    {
      "cell_type": "code",
      "source": [
        "%%bash\n",
        "wget https://go.dev/dl/go1.20.7.linux-amd64.tar.gz\n",
        "tar -zxvf go1.20.7.linux-amd64.tar.gz\n",
        "mv ./go /usr/local/\n",
        "rm -rf go1.20.7.linux-amd64.tar.gz\n",
        "mkdir /home/go"
      ],
      "metadata": {
        "id": "dnVb_47I5rBA"
      },
      "execution_count": null,
      "outputs": []
    },
    {
      "cell_type": "code",
      "source": [
        "import os\n",
        "%env PATH={os.environ['PATH']}:/usr/local/go/bin\n",
        "%env GOBIN=/usr/local/go/bin\n",
        "%env GOPATH=/home/go"
      ],
      "metadata": {
        "id": "Os0LwAci6AjL"
      },
      "execution_count": null,
      "outputs": []
    },
    {
      "cell_type": "code",
      "execution_count": null,
      "metadata": {
        "id": "hVLUQ28Q1sv_"
      },
      "outputs": [],
      "source": [
        "!go version"
      ]
    },
    {
      "cell_type": "markdown",
      "source": [
        "## Cosign installation\n",
        "https://github.com/sigstore/cosign  "
      ],
      "metadata": {
        "id": "iPx3M7db8tFh"
      }
    },
    {
      "cell_type": "code",
      "source": [
        "#### You can install the cosign binary\n",
        "#### Current version: v2.1.1\n",
        "%%bash\n",
        "curl -O -L \"https://github.com/sigstore/cosign/releases/latest/download/cosign-linux-amd64\"\n",
        "mv cosign-linux-amd64 /usr/local/go/bin/cosign\n",
        "chmod +x /usr/local/go/bin/cosign"
      ],
      "metadata": {
        "id": "_0Gs5Yv28Pne"
      },
      "execution_count": null,
      "outputs": []
    },
    {
      "cell_type": "code",
      "source": [
        "!cosign version"
      ],
      "metadata": {
        "id": "Yx12O9tTAoeS"
      },
      "execution_count": null,
      "outputs": []
    },
    {
      "cell_type": "markdown",
      "source": [
        "## Signing\n",
        "Almost according to the article:  \n",
        "\"A Step-by-Step Guide to Signing an SPDX SBOM with Sigstore’s Cosign\"  \n",
        "https://spdx.dev/a-step-by-step-guide-to-signing-an-spdx-sbom-with-sigstores-cosign/"
      ],
      "metadata": {
        "id": "sxxY2VHSHH8H"
      }
    },
    {
      "cell_type": "code",
      "source": [
        "!cosign generate-key-pair"
      ],
      "metadata": {
        "id": "sa2YokDlGCXN"
      },
      "execution_count": null,
      "outputs": []
    },
    {
      "cell_type": "markdown",
      "source": [
        "Prepare the sbom file which you will sign.  \n",
        "In this notebook, we can use a spdx-json from \"SPDX Usage Examples\" by SPDX Workgroup:\n",
        "https://github.com/spdx/spdx-examples"
      ],
      "metadata": {
        "id": "iM0DmABOAbJH"
      }
    },
    {
      "cell_type": "code",
      "source": [
        "!wget https://raw.githubusercontent.com/spdx/spdx-examples/master/presentations/OSS-NA-2023/SPDXVersion2.3/01-MinimalSBOM.json"
      ],
      "metadata": {
        "id": "AInth_TVIjJa"
      },
      "execution_count": null,
      "outputs": []
    },
    {
      "cell_type": "code",
      "source": [
        "!cosign sign-blob --key cosign.key 01-MinimalSBOM.json --tlog-upload=false"
      ],
      "metadata": {
        "id": "-wTdiIdiKJYe"
      },
      "execution_count": null,
      "outputs": []
    },
    {
      "cell_type": "markdown",
      "source": [
        "The signature \\<sig> will show as the result of the above command.  \n",
        "Then, try to verify with the \\<sig> using the following command:"
      ],
      "metadata": {
        "id": "w9hs_CmiLG7W"
      }
    },
    {
      "cell_type": "code",
      "source": [
        "!cosign verify-blob --key cosign.pub --signature <sig> ./01-MinimalSBOM.json --insecure-ignore-tlog=true --verbose"
      ],
      "metadata": {
        "id": "HGGC-fbho51-"
      },
      "execution_count": null,
      "outputs": []
    },
    {
      "cell_type": "markdown",
      "source": [
        "---"
      ],
      "metadata": {
        "id": "nQyIFEAINAz2"
      }
    },
    {
      "cell_type": "markdown",
      "source": [
        "# Notes\n"
      ],
      "metadata": {
        "id": "8_hVMBu7NOEu"
      }
    },
    {
      "cell_type": "markdown",
      "source": [
        "## Note 1. Cosign intalltion methods\n",
        "1. Install directly from the repository  \n",
        ">go install github.com/sigstore/cosign/v2/cmd/cosign@latest\n",
        "\n",
        "2. Build from source\n",
        "```\n",
        "%%bash\n",
        "git clone https://github.com/sigstore/cosign.git\n",
        "cd cosign\n",
        "make\n",
        "mv ./cosign /usr/local/go/bin/cosign\n",
        "```\n",
        "\n",
        "3. NOT USE: v1.x will be installed...\n",
        "> go install github.com/sigstore/cosign/cmd/cosign@latest\n",
        "\n"
      ],
      "metadata": {
        "id": "v3VGU62_MG6d"
      }
    },
    {
      "cell_type": "markdown",
      "source": [
        "## Note 2. Command option to sign  \n",
        "- For container: \"cosign sign\"   \n",
        "- For file or blob: \"cosign sign-blog\""
      ],
      "metadata": {
        "id": "78aJyy15F4Rz"
      }
    },
    {
      "cell_type": "markdown",
      "source": [
        "### Note 3\n",
        "\n",
        "You can sign using using the following command:   \n",
        "\n",
        "> cosign sign-blob \\--key \\<path_to_private_key> \\<spdx_sbom_file>\n",
        "\n",
        "\n",
        "However, this command attempts to upload the artifact to the sigstore service hosted by LF Projects, LLC.\n",
        "\n",
        "So, consider using the \"--tlog-upload=false\" option if you want to try it locally.\n",
        "\n",
        "\n",
        "```\n",
        "Using payload from: <spdx_sbom_file>\n",
        "Enter password for private key:\n",
        "\n",
        "\tThe sigstore service, hosted by sigstore a Series of LF Projects, LLC, is provided pursuant to the Hosted Project Tools Terms of Use, available at https://lfprojects.org/policies/hosted-project-tools-terms-of-use/.\n",
        "\tNote that if your submission includes personal data associated with this signed artifact, it will be part of an immutable record.\n",
        "\tThis may include the email address associated with the account with which you authenticate your contractual Agreement.\n",
        "\tThis information will be used for signing this artifact and will be stored in public transparency logs and cannot be removed later, and is subject to the Immutable Record notice at https://lfprojects.org/policies/hosted-project-tools-immutable-records/.\n",
        "\n",
        "By typing 'y', you attest that (1) you are not submitting the personal data of any other person; and (2) you understand and agree to the statement and the Agreement terms at the URLs listed above.\n",
        "Are you sure you would like to continue? [y/N] ^C\n",
        "```\n"
      ],
      "metadata": {
        "id": "Xw4KeGR7OPav"
      }
    }
  ]
}